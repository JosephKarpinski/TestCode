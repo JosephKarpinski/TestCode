{
 "cells": [
  {
   "cell_type": "code",
   "execution_count": 1,
   "metadata": {},
   "outputs": [
    {
     "data": {
      "text/plain": [
       "True"
      ]
     },
     "execution_count": 1,
     "metadata": {},
     "output_type": "execute_result"
    }
   ],
   "source": [
    "import webbrowser\n",
    "\n",
    "webbrowser.open('https://esahubble.org/images/archive/category/galaxies/')\n",
    "\n",
    "webbrowser.open('https://esahubble.org/images/')"
   ]
  },
  {
   "cell_type": "code",
   "execution_count": 2,
   "metadata": {},
   "outputs": [
    {
     "name": "stdout",
     "output_type": "stream",
     "text": [
      "/Users/josephkarpinski/opt/anaconda3/bin/python\n"
     ]
    }
   ],
   "source": [
    "import sys\n",
    "\n",
    "print(sys.executable)\n",
    "\n",
    "import warnings\n",
    "\n",
    "if not sys.warnoptions:\n",
    "    warnings.simplefilter(\"ignore\")\n",
    "    \n",
    "import matplotlib.pyplot as plt\n",
    "import numpy as np\n",
    "import pandas as pd\n",
    "import scipy as sp\n",
    "\n",
    "from astroquery.simbad import Simbad"
   ]
  },
  {
   "cell_type": "code",
   "execution_count": 3,
   "metadata": {},
   "outputs": [],
   "source": [
    "pd.options.display.max_columns = None\n",
    "pd.set_option('display.max_rows', 2000)"
   ]
  },
  {
   "cell_type": "code",
   "execution_count": 25,
   "metadata": {},
   "outputs": [],
   "source": [
    "#target, ESA_name = 'Abell 1703',  'heic0814b'  # Abell 1701\n",
    "#target, ESA_name = 'Abell 2218',  'heic0814a'  # Abell 2218\n",
    "\n",
    "#target, ESA_name = 'ACT-CL J0102-4915',  'potw1802a'  # ACT-CL J0102-4915 -- Cluster of Galaxies\n",
    "\n",
    "#target, ESA_name = 'arp188',  'heic0206a'  # Tadpole Galaxy UGC 10214 \n",
    "\n",
    "#target, ESA_name = 'coma cluster',  'potw1849a'  # Coma Cluster\n",
    "\n",
    "#target, ESA_name = 'ESO 381-12',  'heic1516a'  # ESO 381-12, PGC 42871\n",
    "#target, ESA_name = 'ESO 510-13',  'opo0123a'  # ESO 510-13, IRAS 13522-2632\n",
    "\n",
    "#target, ESA_name = 'IC 10',  'potw1924a'  # IC 10 Spiral, elliptical, irregular\n",
    "#target, ESA_name = 'IC 335',  'potw1451a'  # IC 335\n",
    "\n",
    "#target, ESA_name = 'm51',     'heic0506a'  # The Whirlpool Galaxy (M51) and companion galaxy\n",
    "#target, ESA_name = 'm61',     'potw2114a'  # Spiral Galaxy M61\n",
    "#target, ESA_name = 'm66',     'heic1006a'  # M66 -- Galaxy in Pair of Galaxies - The Leo Triplet\n",
    "#target, ESA_name = 'm74',     'heic0719a'  # M74 The Phantom Galaxy\n",
    "#target, ESA_name = 'm77',     'heic1305a'  # M77\n",
    "#target, ESA_name = 'm81',     'opo1438b'   # Spiral galaxy M81\n",
    "#target, ESA_name = 'm82',     'heic0604a'  # M82 - The magnificent starburst galaxy Messier 82\n",
    "#target, ESA_name = 'm94',     'potw1542a'  # Starburst galaxy Messier 94\n",
    "#target, ESA_name = 'm100',    'potw1850a'  # M100\n",
    "#target, ESA_name = 'm101',    'heic0602a'  # M101 - The Pinwheel Galaxy\n",
    "#target, ESA_name = 'm104',    'opo0328a'   # M104 - The majestic Sombrero Galaxy\n",
    "#target, ESA_name = 'm106',    'heic1302a'  # Messier 106\n",
    "\n",
    "#target, ESA_name = 'MCS J0138.0-2155',    'potw2129a'  # Cosmic Lens Flare - MCS J0138.0-2155 -- Cluster of Galaxies\n",
    "\n",
    "target, ESA_name = 'ngc34',  'potw2043a'  # NGC 34 -- Seyfert 2 Galaxy\n",
    "#target, ESA_name = 'ngc972',  'potw1926a'  # NGC 972 -- Radio Galaxy\n",
    "#target, ESA_name = 'ngc1015', 'potw1811a'  # NGC 1015 classified as a barred spiral galaxy\n",
    "#target, ESA_name = 'ngc1052', 'heic1806a'  # NGC 10152-DF2 A ghostly galaxy lacking dark matter\n",
    "#target, ESA_name = 'ngc1275', 'heic0817a'  # Magnetic monster NGC 1275\n",
    "#target, ESA_name = 'ngc1300', 'opo0501a'   # Barred spiral galaxy NGC 1300\n",
    "#target, ESA_name = 'ngc1316', 'opo0511a'   # The giant elliptical galaxy NGC 1316\n",
    "#target, ESA_name = 'ngc1510', 'heic1712a'  # NGC 1512 and NGC 1510\n",
    "#target, ESA_name = 'ngc1512', 'heic1712a'  # NGC 1512 and NGC 1510\n",
    "#target, ESA_name = 'ngc1672', 'heic0706a'  # Stellar nursery in the arms of NGC 1672\n",
    "#target, ESA_name = 'ngc1792', 'potw2049a'  # The Stellar Forge\n",
    "#target, ESA_name = 'ngc2008', 'potw2006a'  # NGC 2008\n",
    "#target, ESA_name = 'ngc2207', 'opo9941a'   # A grazing encounter between two spiral galaxies\n",
    "#target, ESA_name = 'ngc2525', 'heic2018b'  # Galaxy NGC 2525\n",
    "#target, ESA_name = 'ngc2775', 'potw2026a'  # Galaxy NGC 2775\n",
    "#target, ESA_name = 'ngc2841', 'heic1104a'  # Flocculent spiral NGC 2841\n",
    "#target, ESA_name = 'ngc3256', 'heic1811a'  # Peculiar galaxy NGC 3256\n",
    "#target, ESA_name = 'ngc3717', 'potw1940a'  # NGC 3717\n",
    "#target, ESA_name = 'ngc4038', 'potw1345a'  # Antennae Galaxies\n",
    "#target, ESA_name = 'ngc4490', 'heic1716a'  # NGC 4490 Result of a galactic crash\n",
    "#target, ESA_name = 'ngc4522', 'heic0911b'  # NGC 4522\n",
    "#target, ESA_name = 'ngc4526', 'potw1442a'  # The whirling disc of NGC 4526\n",
    "#target, ESA_name = 'ngc4603', 'potw2116a'  # NGC 4603 -- Galaxy towards a Group of Galaxies\n",
    "#target, ESA_name = 'ngc4621', 'potw1921a'  # NGC 4621\n",
    "#target, ESA_name = 'ngc4676', 'heic0206b'  # Mice Galaxies\n",
    "#target, ESA_name = 'ngc4762', 'potw1443a'  # NGC 4762 -- LINER-type Active Galaxy Nucleus - A galaxy on the edge\n",
    "#target, ESA_name = 'ngc4826', 'potw2108a'  # NGC 4826 Eye in the Sky\n",
    "#target, ESA_name = 'ngc5128', 'heic1110a'  # NGC 5128 - Centaurus A -- Seyfert 2 Galaxy\n",
    "#target, ESA_name = 'ngc5866', 'opo0624a'   # NGC 5866\n",
    "#target, ESA_name = 'ngc6217', 'heic0910s'  # Barred spiral galaxy NGC 6217\n",
    "#target, ESA_name = 'ngc6752', 'heic1903a'  # NGC 6752 -- Globular Cluster and The accidentally discovered galaxy Bedin I\n",
    "#target, ESA_name = 'ngc6984', 'potw2144a'  # NGC 6984 Cosmic Fireworks\n",
    "#target, ESA_name = 'ngc7049', 'heic0905a'  # Dramatically backlit dust lanes in NGC 7049\n",
    "#target, ESA_name = 'ngc7318A', 'heic0910i' # Stephan's Quintet\n",
    "#target, ESA_name = 'ngc7318B', 'heic0910i' # Stephan's Quintet\n",
    "#target, ESA_name = 'ngc7319',  'heic0910i' # Stephan's Quintet\n",
    "#target, ESA_name = 'ngc7331',  'potw1805a' # NGC 7331\n",
    "#target, ESA_name = 'ngc7714',  'heic1503a' # NGC 7714\n",
    "\n",
    "#target, ESA_name = 'ClG J0333-0651',  'potw1821a'  # Between Local and Laniakea -n SDSS J0333+0651, [SPD2011] 1227 - ClG J0333-0651 -- Cluster of Galaxies\n",
    "#target, ESA_name = 'SDSS J1156+1911',  'potw1822a'  # SDSS J1156+1911 A green cosmic arc\n",
    "\n",
    "#target, ESA_name = 'UGC 12588',  'potw2046a' # UGC 12588 -- Galaxy towards a Group of Galaxies\n",
    "#target, ESA_name = 'UGCA 193',   'potw2044a' # UGCA 193 -- Galaxy towards a Group of Galaxies\n",
    "\n"
   ]
  },
  {
   "cell_type": "code",
   "execution_count": 26,
   "metadata": {},
   "outputs": [
    {
     "name": "stdout",
     "output_type": "stream",
     "text": [
      "Target: ngc34\n",
      "\n",
      "RA: 00 11 06.612\n",
      "DEC: -12 06 28.33\n"
     ]
    }
   ],
   "source": [
    "print(\"Target: \" + str(target))\n",
    "\n",
    "object = Simbad.query_object(target)\n",
    "ra = object[\"RA\"]\n",
    "\n",
    "ra = object[\"RA\"]\n",
    "RA = ra.data[0]\n",
    "print(\"\\nRA: \" + str(RA))\n",
    "\n",
    "dec = object[\"DEC\"]\n",
    "DEC = dec.data[0]\n",
    "print(\"DEC: \" + str(DEC))"
   ]
  },
  {
   "cell_type": "code",
   "execution_count": 27,
   "metadata": {},
   "outputs": [],
   "source": [
    "import webbrowser\n",
    "\n",
    "cds_portal_flag    = 'N'\n",
    "simbad_portal_flag = 'Y'\n",
    "sdss_portal_flag   = 'N'\n",
    "PanStarrs_portal_flag = 'Y'\n",
    "Aladin_portal_flag = 'N'\n",
    "esa_portal_flag   = 'Y'\n",
    "\n",
    "xRa = RA\n",
    "yDec = DEC\n",
    "        \n",
    "if cds_portal_flag == 'Y':\n",
    "    cds_portal = 'http://cdsportal.u-strasbg.fr/?target=' + str(xRa) + '%20' + str(yDec)\n",
    "    webbrowser.open(cds_portal) \n",
    "\n",
    "if simbad_portal_flag == 'Y':\n",
    "    simbad_portal = 'http://simbad.cds.unistra.fr/simbad/sim-coo?Coord=' + str(xRa) + '+' + str(yDec) + \\\n",
    "                '&CooFrame=FK5&CooEpoch=2000&CooEqui=2000&CooDefinedFrames=none&Radius=2&Radius.unit=arcmin&submit=submit+query'\n",
    "    webbrowser.open(simbad_portal)  \n",
    "\n",
    "if sdss_portal_flag == 'Y':\n",
    "    sdss_portal = 'http://skyserver.sdss.org/dr17/VisualTools/quickobj?ra=' + str(xRa) + '&dec=' + str(yDec)\n",
    "    webbrowser.open(sdss_portal)   \n",
    "\n",
    "if PanStarrs_portal_flag == 'Y':\n",
    "    PanStarrs_portal = 'http://ps1images.stsci.edu/cgi-bin/ps1cutouts?pos=' + str(xRa) + ' ' + \\\n",
    "    str(yDec) + '&filter=color&filter=g&filter=r&filter=i&filter=z&filter=y&filetypes=stack&auxiliary=data&size=240&output_size=0&verbose=0&autoscale=99.500000&catlist='\n",
    "    webbrowser.open(PanStarrs_portal) \n",
    "\n",
    "if Aladin_portal_flag == 'Y':\n",
    "    radec = str(xRa) + ' ' + str(yDec)\n",
    "    webbrowser.open('https://aladin.u-strasbg.fr/AladinLite/?target=' + str(radec))\n",
    "\n",
    "if esa_portal_flag == 'Y':\n",
    "    webbrowser.open('https://esahubble.org/images/' + str(ESA_name))\n",
    "    webbrowser.open('https://esahubble.org/images/' + str(ESA_name) + \"/zoomable/\")\n",
    "    webbrowser.open('https://esahubble.org/media/archives/images/large/' + str(ESA_name) + \".jpg\")\n",
    "    #webbrowser.open('https://esahubble.org/media/archives/images/original/' + str(ESA_name) + \".tif\")\n",
    "  "
   ]
  },
  {
   "cell_type": "code",
   "execution_count": null,
   "metadata": {},
   "outputs": [],
   "source": []
  }
 ],
 "metadata": {
  "kernelspec": {
   "display_name": "Python 3.8.5 ('base')",
   "language": "python",
   "name": "python3"
  },
  "language_info": {
   "codemirror_mode": {
    "name": "ipython",
    "version": 3
   },
   "file_extension": ".py",
   "mimetype": "text/x-python",
   "name": "python",
   "nbconvert_exporter": "python",
   "pygments_lexer": "ipython3",
   "version": "3.8.5"
  },
  "orig_nbformat": 4,
  "vscode": {
   "interpreter": {
    "hash": "370153b166432bda8ece2d80f7f4d2181e27b6b7a1e4d6bb250df530a4aea18a"
   }
  }
 },
 "nbformat": 4,
 "nbformat_minor": 2
}
