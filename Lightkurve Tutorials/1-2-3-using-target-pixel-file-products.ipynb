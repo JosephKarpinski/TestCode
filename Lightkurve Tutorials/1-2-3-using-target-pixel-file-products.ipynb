{
 "cells": [
  {
   "cell_type": "code",
   "execution_count": 1,
   "metadata": {},
   "outputs": [],
   "source": [
    "# https://docs.lightkurve.org/tutorials/1-getting-started/using-target-pixel-file-products.html"
   ]
  },
  {
   "cell_type": "markdown",
   "metadata": {
    "colab_type": "text",
    "id": "zmyJVTgDegLW"
   },
   "source": [
    "# Using Target Pixel Files with Lightkurve"
   ]
  },
  {
   "cell_type": "markdown",
   "metadata": {
    "colab_type": "text",
    "id": "px3Cl_ZzY4m6"
   },
   "source": [
    "## Learning Goals\n",
    "\n",
    "By the end of this tutorial, you will:\n",
    "\n",
    "- Be able to download and plot target pixel files from the data archive using [Lightkurve](https://docs.lightkurve.org).\n",
    "- Be able to access target pixel file metadata.\n",
    "- Understand where to find more details about *Kepler* target pixel files.\n"
   ]
  },
  {
   "cell_type": "markdown",
   "metadata": {
    "colab_type": "text",
    "id": "zNk1NmIcfkMC"
   },
   "source": [
    "## Introduction"
   ]
  },
  {
   "cell_type": "markdown",
   "metadata": {
    "colab_type": "text",
    "id": "fpDuPWW6hzh_"
   },
   "source": [
    "The [*Kepler*](https://www.nasa.gov/mission_pages/kepler/main/index.html), [*K2*](https://www.nasa.gov/mission_pages/kepler/main/index.html), and [*TESS*](https://tess.mit.edu/) telescopes observe stars for long periods of time, from just under a month to four years. By doing so they observe how the brightnesses of stars change over time.\n",
    "\n",
    "*Kepler* selected certain pixels around targeted stars to be downloaded from the spacecraft. These were stored as *target pixel files* that contain data for each observed cadence. In this tutorial, we will learn how to use Lightkurve to download these raw data, plot them, and understand their properties and units.\n",
    "\n",
    "It is recommended that you first read the tutorial on how to use *Kepler* light curve products with Lightkurve. That tutorial will introduce you to some specifics of how *Kepler*, *K2*, and *TESS* make observations, and how these are displayed as light curves. It also introduces some important terms and concepts that are referred to in this tutorial.\n",
    "\n",
    "*Kepler* observed a single field in the sky, although not all stars in this field were recorded. Instead, pixels were selected around certain targeted stars. This series of cutouts were downloaded and stored as an array of images in target pixel files, or TPFs. By summing up the amount of light (the *flux*) captured by the pixels in which the star appears, you can make a measurement of the brightness of a star over time.\n",
    "\n",
    "TPFs are an important resource when studying an astronomical object with *Kepler*, *K2*, or *TESS*. The files allow us to understand the original images that were collected, and identify potential sources of noise or instrument-induced trends which may be less obvious in derived light curves. In this tutorial, we will use the *Kepler* mission as the main example, but these tools equally work for *TESS* and *K2*."
   ]
  },
  {
   "cell_type": "markdown",
   "metadata": {
    "colab_type": "text",
    "id": "PPvxoxn5fNRG"
   },
   "source": [
    "## Imports\n",
    "\n",
    "This tutorial requires **[Lightkurve](https://docs.lightkurve.org)**, which in turn uses `matplotlib` for plotting."
   ]
  },
  {
   "cell_type": "code",
   "execution_count": 2,
   "metadata": {
    "colab": {},
    "colab_type": "code",
    "id": "1dH7Te6hfkvx"
   },
   "outputs": [],
   "source": [
    "import lightkurve as lk\n",
    "%matplotlib inline "
   ]
  },
  {
   "cell_type": "markdown",
   "metadata": {
    "colab_type": "text",
    "id": "TIf0mdYqnhiZ"
   },
   "source": [
    "## 1. What is a Target Pixel File?\n",
    "\n",
    "The target pixel file (TPF) of a star contains an image for each observing cadence, either a 30-minute Long Cadence or one-minute Short Cadence exposure in the case of *Kepler*. The files also include metadata detailing how the observation was made, as well as post-processing information such as the estimated intensity of the astronomical background in each image. (Read the [*Kepler* Archive Manual](https://archive.stsci.edu/files/live/sites/mast/files/home/missions-and-data/kepler/_documents/archive_manual.pdf), Section 2.3.2 for more information.)\n",
    "\n",
    "TPFs are stored in a [FITS file format](https://fits.gsfc.nasa.gov/fits_primer.html). The Lightkurve package allows us to work with these binary files without having to worry about the details of the file structure. For examples on how to work with FITS files directly, read this tutorial on [Plotting Images from *Kepler* Target Pixel Files](https://github.com/spacetelescope/notebooks/blob/master/notebooks/MAST/Kepler/Kepler_TPF/kepler_tpf.ipynb)."
   ]
  },
  {
   "cell_type": "markdown",
   "metadata": {
    "colab_type": "text",
    "id": "41HrZlzqi1U5"
   },
   "source": [
    "## 2. Downloading a Target Pixel File"
   ]
  },
  {
   "cell_type": "markdown",
   "metadata": {
    "colab_type": "text",
    "id": "-WFvehoMkIDa"
   },
   "source": [
    "The TPFs of stars observed by the *Kepler* mission are stored on the [Mikulksi Archive for Space Telescopes](https://archive.stsci.edu/kepler/) (MAST) archive, along with metadata about the observations, such as which charge-coupled device (CCD) was used at each time."
   ]
  },
  {
   "cell_type": "markdown",
   "metadata": {
    "colab_type": "text",
    "id": "_vVu6JugHj6O"
   },
   "source": [
    "Lightkurve's built-in tools allow us to search and download TPFs from the archive. As we did in the accompanying tutorial on light curves, we will start by downloading one quarter (a *Kepler* observing period approximately 90 days in duration) of *Kepler* data for the star named [Kepler-8](http://www.openexoplanetcatalogue.com/planet/Kepler-8%20b/), a star somewhat larger than the Sun, and the host of a [hot Jupiter planet](https://en.wikipedia.org/wiki/Hot_Jupiter)."
   ]
  },
  {
   "cell_type": "markdown",
   "metadata": {
    "colab_type": "text",
    "id": "EuIqyV0YIWND"
   },
   "source": [
    "Using the [search_targetpixelfile](https://docs.lightkurve.org/reference/api/lightkurve.search_targetpixelfile.html?highlight=search_targetpixelfile) function, we can find an itemized list of different TPFs available for Kepler-8."
   ]
  },
  {
   "cell_type": "code",
   "execution_count": 3,
   "metadata": {
    "colab": {
     "base_uri": "https://localhost:8080/",
     "height": 442
    },
    "colab_type": "code",
    "executionInfo": {
     "elapsed": 14762,
     "status": "ok",
     "timestamp": 1598458625383,
     "user": {
      "displayName": "Geert Barentsen",
      "photoUrl": "https://lh3.googleusercontent.com/a-/AOh14Gj8sjdnDeqdejfe7OoouYPIclAQV0KSTpsU469Jyeo=s64",
      "userId": "05704237875861987058"
     },
     "user_tz": 420
    },
    "id": "hcpStCZ7IJct",
    "outputId": "37bdbbdd-59eb-4ee1-d4f8-2e85f8f180b2"
   },
   "outputs": [
    {
     "output_type": "execute_result",
     "data": {
      "text/plain": [
       "SearchResult containing 18 data products.\n",
       "\n",
       " #       mission      year author exptime  target_name  distance\n",
       "                                     s                   arcsec \n",
       "--- ----------------- ---- ------ ------- ------------- --------\n",
       "  0 Kepler Quarter 00 2009 Kepler    1800 kplr006922244      0.0\n",
       "  1 Kepler Quarter 01 2009 Kepler    1800 kplr006922244      0.0\n",
       "  2 Kepler Quarter 02 2009 Kepler    1800 kplr006922244      0.0\n",
       "  3 Kepler Quarter 03 2009 Kepler    1800 kplr006922244      0.0\n",
       "  4 Kepler Quarter 04 2010 Kepler    1800 kplr006922244      0.0\n",
       "  5 Kepler Quarter 05 2010 Kepler    1800 kplr006922244      0.0\n",
       "  6 Kepler Quarter 06 2010 Kepler    1800 kplr006922244      0.0\n",
       "  7 Kepler Quarter 07 2010 Kepler    1800 kplr006922244      0.0\n",
       "  8 Kepler Quarter 08 2011 Kepler    1800 kplr006922244      0.0\n",
       "  9 Kepler Quarter 09 2011 Kepler    1800 kplr006922244      0.0\n",
       " 10 Kepler Quarter 10 2011 Kepler    1800 kplr006922244      0.0\n",
       " 11 Kepler Quarter 11 2012 Kepler    1800 kplr006922244      0.0\n",
       " 12 Kepler Quarter 12 2012 Kepler    1800 kplr006922244      0.0\n",
       " 13 Kepler Quarter 13 2012 Kepler    1800 kplr006922244      0.0\n",
       " 14 Kepler Quarter 14 2012 Kepler    1800 kplr006922244      0.0\n",
       " 15 Kepler Quarter 15 2013 Kepler    1800 kplr006922244      0.0\n",
       " 16 Kepler Quarter 16 2013 Kepler    1800 kplr006922244      0.0\n",
       " 17 Kepler Quarter 17 2013 Kepler    1800 kplr006922244      0.0"
      ],
      "text/html": "SearchResult containing 18 data products.\n\n<table id=\"table140601321039664\">\n<thead><tr><th>#</th><th>mission</th><th>year</th><th>author</th><th>exptime</th><th>target_name</th><th>distance</th></tr></thead>\n<thead><tr><th></th><th></th><th></th><th></th><th>s</th><th></th><th>arcsec</th></tr></thead>\n<tr><td>0</td><td>Kepler Quarter 00</td><td>2009</td><td><a href='https://archive.stsci.edu/kepler/data_products.html'>Kepler</a></td><td>1800</td><td>kplr006922244</td><td>0.0</td></tr>\n<tr><td>1</td><td>Kepler Quarter 01</td><td>2009</td><td><a href='https://archive.stsci.edu/kepler/data_products.html'>Kepler</a></td><td>1800</td><td>kplr006922244</td><td>0.0</td></tr>\n<tr><td>2</td><td>Kepler Quarter 02</td><td>2009</td><td><a href='https://archive.stsci.edu/kepler/data_products.html'>Kepler</a></td><td>1800</td><td>kplr006922244</td><td>0.0</td></tr>\n<tr><td>3</td><td>Kepler Quarter 03</td><td>2009</td><td><a href='https://archive.stsci.edu/kepler/data_products.html'>Kepler</a></td><td>1800</td><td>kplr006922244</td><td>0.0</td></tr>\n<tr><td>4</td><td>Kepler Quarter 04</td><td>2010</td><td><a href='https://archive.stsci.edu/kepler/data_products.html'>Kepler</a></td><td>1800</td><td>kplr006922244</td><td>0.0</td></tr>\n<tr><td>5</td><td>Kepler Quarter 05</td><td>2010</td><td><a href='https://archive.stsci.edu/kepler/data_products.html'>Kepler</a></td><td>1800</td><td>kplr006922244</td><td>0.0</td></tr>\n<tr><td>6</td><td>Kepler Quarter 06</td><td>2010</td><td><a href='https://archive.stsci.edu/kepler/data_products.html'>Kepler</a></td><td>1800</td><td>kplr006922244</td><td>0.0</td></tr>\n<tr><td>7</td><td>Kepler Quarter 07</td><td>2010</td><td><a href='https://archive.stsci.edu/kepler/data_products.html'>Kepler</a></td><td>1800</td><td>kplr006922244</td><td>0.0</td></tr>\n<tr><td>8</td><td>Kepler Quarter 08</td><td>2011</td><td><a href='https://archive.stsci.edu/kepler/data_products.html'>Kepler</a></td><td>1800</td><td>kplr006922244</td><td>0.0</td></tr>\n<tr><td>9</td><td>Kepler Quarter 09</td><td>2011</td><td><a href='https://archive.stsci.edu/kepler/data_products.html'>Kepler</a></td><td>1800</td><td>kplr006922244</td><td>0.0</td></tr>\n<tr><td>10</td><td>Kepler Quarter 10</td><td>2011</td><td><a href='https://archive.stsci.edu/kepler/data_products.html'>Kepler</a></td><td>1800</td><td>kplr006922244</td><td>0.0</td></tr>\n<tr><td>11</td><td>Kepler Quarter 11</td><td>2012</td><td><a href='https://archive.stsci.edu/kepler/data_products.html'>Kepler</a></td><td>1800</td><td>kplr006922244</td><td>0.0</td></tr>\n<tr><td>12</td><td>Kepler Quarter 12</td><td>2012</td><td><a href='https://archive.stsci.edu/kepler/data_products.html'>Kepler</a></td><td>1800</td><td>kplr006922244</td><td>0.0</td></tr>\n<tr><td>13</td><td>Kepler Quarter 13</td><td>2012</td><td><a href='https://archive.stsci.edu/kepler/data_products.html'>Kepler</a></td><td>1800</td><td>kplr006922244</td><td>0.0</td></tr>\n<tr><td>14</td><td>Kepler Quarter 14</td><td>2012</td><td><a href='https://archive.stsci.edu/kepler/data_products.html'>Kepler</a></td><td>1800</td><td>kplr006922244</td><td>0.0</td></tr>\n<tr><td>15</td><td>Kepler Quarter 15</td><td>2013</td><td><a href='https://archive.stsci.edu/kepler/data_products.html'>Kepler</a></td><td>1800</td><td>kplr006922244</td><td>0.0</td></tr>\n<tr><td>16</td><td>Kepler Quarter 16</td><td>2013</td><td><a href='https://archive.stsci.edu/kepler/data_products.html'>Kepler</a></td><td>1800</td><td>kplr006922244</td><td>0.0</td></tr>\n<tr><td>17</td><td>Kepler Quarter 17</td><td>2013</td><td><a href='https://archive.stsci.edu/kepler/data_products.html'>Kepler</a></td><td>1800</td><td>kplr006922244</td><td>0.0</td></tr>\n</table>"
     },
     "metadata": {},
     "execution_count": 3
    }
   ],
   "source": [
    "search_result = lk.search_targetpixelfile(\"Kepler-8\", author=\"Kepler\", cadence=\"long\")\n",
    "search_result"
   ]
  },
  {
   "cell_type": "markdown",
   "metadata": {
    "colab_type": "text",
    "id": "vEqLXQSDoUco"
   },
   "source": [
    "In this list, each row represents a different observing period. We find that *Kepler* recorded 18 quarters of data for this target across four years. The `search_targetpixelfile()` function takes several additional arguments, such as the `quarter` number or the `mission` name. You can find examples of its use in the [online documentation](https://docs.lightkurve.org/reference/api/lightkurve.search_targetpixelfile.html?highlight=search_targetpixelfile) for this function.\n",
    "\n",
    "The search function returns a `SearchResult` object which has several convenient operations. For example, we can select the fourth data product in the list as follows:"
   ]
  },
  {
   "cell_type": "code",
   "execution_count": 4,
   "metadata": {
    "colab": {
     "base_uri": "https://localhost:8080/",
     "height": 79
    },
    "colab_type": "code",
    "executionInfo": {
     "elapsed": 14757,
     "status": "ok",
     "timestamp": 1598458625386,
     "user": {
      "displayName": "Geert Barentsen",
      "photoUrl": "https://lh3.googleusercontent.com/a-/AOh14Gj8sjdnDeqdejfe7OoouYPIclAQV0KSTpsU469Jyeo=s64",
      "userId": "05704237875861987058"
     },
     "user_tz": 420
    },
    "id": "QOEovJgkofIf",
    "outputId": "9d04b6ee-196f-4133-bb19-b1f75832aeee"
   },
   "outputs": [
    {
     "output_type": "execute_result",
     "data": {
      "text/plain": [
       "SearchResult containing 1 data products.\n",
       "\n",
       " #       mission      year author exptime  target_name  distance\n",
       "                                     s                   arcsec \n",
       "--- ----------------- ---- ------ ------- ------------- --------\n",
       "  0 Kepler Quarter 04 2010 Kepler    1800 kplr006922244      0.0"
      ],
      "text/html": "SearchResult containing 1 data products.\n\n<table id=\"table140601321038704\">\n<thead><tr><th>#</th><th>mission</th><th>year</th><th>author</th><th>exptime</th><th>target_name</th><th>distance</th></tr></thead>\n<thead><tr><th></th><th></th><th></th><th></th><th>s</th><th></th><th>arcsec</th></tr></thead>\n<tr><td>0</td><td>Kepler Quarter 04</td><td>2010</td><td><a href='https://archive.stsci.edu/kepler/data_products.html'>Kepler</a></td><td>1800</td><td>kplr006922244</td><td>0.0</td></tr>\n</table>"
     },
     "metadata": {},
     "execution_count": 4
    }
   ],
   "source": [
    "search_result[4]"
   ]
  },
  {
   "cell_type": "markdown",
   "metadata": {
    "colab_type": "text",
    "id": "0BY-cimHotti"
   },
   "source": [
    "We can download this data product using the [download()](https://docs.lightkurve.org/reference/api/lightkurve.SearchResult.download.html?highlight=download#lightkurve.SearchResult.download) method."
   ]
  },
  {
   "cell_type": "code",
   "execution_count": 5,
   "metadata": {
    "colab": {},
    "colab_type": "code",
    "id": "LrGKm1J_I06X"
   },
   "outputs": [],
   "source": [
    "tpf = search_result[4].download()"
   ]
  },
  {
   "cell_type": "markdown",
   "metadata": {
    "colab_type": "text",
    "id": "FxKwOG3Go8TT"
   },
   "source": [
    "This instruction is identical to the following line:"
   ]
  },
  {
   "cell_type": "code",
   "execution_count": 6,
   "metadata": {
    "colab": {},
    "colab_type": "code",
    "id": "WY9N8ou-pAB0"
   },
   "outputs": [],
   "source": [
    "tpf = lk.search_targetpixelfile(\"Kepler-8\", author=\"Kepler\", cadence=\"long\", quarter=4).download()"
   ]
  },
  {
   "cell_type": "markdown",
   "metadata": {
    "colab_type": "text",
    "id": "flbTGIWOpQyV"
   },
   "source": [
    "The `tpf_file` variable we have obtained in this way is a [KeplerTargetPixelFile](https://docs.lightkurve.org/reference/api/lightkurve.KeplerTargetPixelFile.html?highlight=keplertargetpixelfile) object."
   ]
  },
  {
   "cell_type": "code",
   "execution_count": 7,
   "metadata": {
    "colab": {
     "base_uri": "https://localhost:8080/",
     "height": 34
    },
    "colab_type": "code",
    "executionInfo": {
     "elapsed": 16314,
     "status": "ok",
     "timestamp": 1598458626964,
     "user": {
      "displayName": "Geert Barentsen",
      "photoUrl": "https://lh3.googleusercontent.com/a-/AOh14Gj8sjdnDeqdejfe7OoouYPIclAQV0KSTpsU469Jyeo=s64",
      "userId": "05704237875861987058"
     },
     "user_tz": 420
    },
    "id": "98HbSjCdpcYm",
    "outputId": "40e19a9c-be82-400f-cd9c-3ec1335cd2b9"
   },
   "outputs": [
    {
     "output_type": "execute_result",
     "data": {
      "text/plain": [
       "KeplerTargetPixelFile Object (ID: 6922244)"
      ]
     },
     "metadata": {},
     "execution_count": 7
    }
   ],
   "source": [
    "tpf"
   ]
  },
  {
   "cell_type": "markdown",
   "metadata": {
    "colab_type": "text",
    "id": "s163SxRnpdYf"
   },
   "source": [
    "This file object provides a convenient way to interact with the data file that has been returned by the archive, which contains both the TPF as well as metadata about the observations.\n",
    "\n",
    "Before diving into the properties of the `KeplerTargetPixelFile`, we can plot the data, also using Lightkurve."
   ]
  },
  {
   "cell_type": "code",
   "execution_count": 8,
   "metadata": {
    "colab": {
     "base_uri": "https://localhost:8080/",
     "height": 420
    },
    "colab_type": "code",
    "executionInfo": {
     "elapsed": 17241,
     "status": "ok",
     "timestamp": 1598458627899,
     "user": {
      "displayName": "Geert Barentsen",
      "photoUrl": "https://lh3.googleusercontent.com/a-/AOh14Gj8sjdnDeqdejfe7OoouYPIclAQV0KSTpsU469Jyeo=s64",
      "userId": "05704237875861987058"
     },
     "user_tz": 420
    },
    "id": "Y_jFU5OGpd6o",
    "outputId": "07529c4e-9d5d-47a4-ba11-16ca727eb523"
   },
   "outputs": [
    {
     "output_type": "display_data",
     "data": {
      "text/plain": "<Figure size 848.5x400 with 2 Axes>",
      "image/svg+xml": "<?xml version=\"1.0\" encoding=\"utf-8\" standalone=\"no\"?>\n<!DOCTYPE svg PUBLIC \"-//W3C//DTD SVG 1.1//EN\"\n  \"http://www.w3.org/Graphics/SVG/1.1/DTD/svg11.dtd\">\n<svg height=\"289.148125pt\" version=\"1.1\" viewBox=\"0 0 384.801244 289.148125\" width=\"384.801244pt\" xmlns=\"http://www.w3.org/2000/svg\" xmlns:xlink=\"http://www.w3.org/1999/xlink\">\n <metadata>\n  <rdf:RDF xmlns:cc=\"http://creativecommons.org/ns#\" xmlns:dc=\"http://purl.org/dc/elements/1.1/\" xmlns:rdf=\"http://www.w3.org/1999/02/22-rdf-syntax-ns#\">\n   <cc:Work>\n    <dc:type rdf:resource=\"http://purl.org/dc/dcmitype/StillImage\"/>\n    <dc:date>2021-05-11T17:39:55.274776</dc:date>\n    <dc:format>image/svg+xml</dc:format>\n    <dc:creator>\n     <cc:Agent>\n      <dc:title>Matplotlib v3.4.1, https://matplotlib.org/</dc:title>\n     </cc:Agent>\n    </dc:creator>\n   </cc:Work>\n  </rdf:RDF>\n </metadata>\n <defs>\n  <style type=\"text/css\">*{stroke-linecap:butt;stroke-linejoin:round;}</style>\n </defs>\n <g id=\"figure_1\">\n  <g id=\"patch_1\">\n   <path d=\"M 0 289.148125 \nL 384.801244 289.148125 \nL 384.801244 0 \nL 0 0 \nz\n\" style=\"fill:#ffffff;\"/>\n  </g>\n  <g id=\"axes_1\">\n   <g id=\"patch_2\">\n    <path d=\"M 64.236094 248.317188 \nL 281.676094 248.317188 \nL 281.676094 30.877188 \nL 64.236094 30.877188 \nz\n\" style=\"fill:#ffffff;\"/>\n   </g>\n   <g clip-path=\"url(#p46d3d727e6)\">\n    <image height=\"217.44\" id=\"image409756b518\" transform=\"scale(1 -1)translate(0 -217.44)\" width=\"217.44\" x=\"64.236094\" xlink:href=\"data:image/png;base64,\niVBORw0KGgoAAAANSUhEUgAAAS4AAAEuCAYAAAAwQP9DAAAEk0lEQVR4nO3WMWqUURiG0fmTERsFMSJKlmBtazWVtrMvV+B23EJAGxvB2gg2gd81WOR+PMw5K3gvXB6+7XBhTtt5n97AI9u26QXr7Zf1ra+mBwD8L+ECcoQLyBEuIEe4gBzhAnKEC8gRLiBHuIAc4QJyhAvIES4gR7iAHOECcoQLyBEuIEe4gBzhAnKEC8gRLiBHuIAc4QJyhAvIES4gR7iAHOECcoQLyBEuIEe4gBzhAnKEC8gRLiBHuIAc4QJyhAvIES4gR7iAHOECcoQLyBEuIEe4gBzhAnKEC8gRLiBHuIAc4QJyhAvIES4gR7iAHOECcoQLyBEuIEe4gBzhAnKEC8gRLiBHuIAc4QJyhAvI2U7beZ8eweM6vn0zPWGpv+9upycs9/Tr3fSEpVxcQI5wATnCBeQIF5AjXECOcAE5wgXkCBeQI1xAjnABOcIF5AgXkCNcQI5wATnCBeQIF5AjXECOcAE5wgXkCBeQI1xAjnABOcIF5AgXkCNcQI5wATnCBeQIF5AjXECOcAE5wgXkCBeQI1xAjnABOcIF5AgXkCNcQI5wATnCBeQIF5AjXECOcAE5wgXkCBeQI1xAjnABOcIF5AgXkCNcQI5wATnCBeQIF5AjXECOcAE5wgXkCBeQI1xAjnABOcIF5AgXkHOcHrDadry4Jx++f349PWGpbx++TE9Y7tP7j9MTlnJxATnCBeQIF5AjXECOcAE5wgXkCBeQI1xAjnABOcIF5AgXkCNcQI5wATnCBeQIF5AjXECOcAE5wgXkCBeQI1xAjnABOcIF5AgXkCNcQI5wATnCBeQIF5AjXECOcAE5wgXkCBeQI1xAjnABOcIF5AgXkCNcQI5wATnCBeQIF5AjXECOcAE5wgXkCBeQI1xAjnABOcIF5AgXkCNcQI5wATnCBeQIF5AjXECOcAE5wgXkCBeQI1xAjnABOcIF5AgXkLOdtvM+PWKl61c30xPWe/liesFSDzfPpicsd7z7MT1hKRcXkCNcQI5wATnCBeQIF5AjXECOcAE5wgXkCBeQI1xAjnABOcIF5AgXkCNcQI5wATnCBeQIF5AjXECOcAE5wgXkCBeQI1xAjnABOcIF5AgXkCNcQI5wATnCBeQIF5AjXECOcAE5wgXkCBeQI1xAjnABOcIF5AgXkCNcQI5wATnCBeQIF5AjXECOcAE5wgXkCBeQI1xAjnABOcIF5AgXkCNcQI5wATnCBeQIF5AjXECOcAE5wgXkCBeQI1xAjnABOcfD1fX0hrX2fXrBcvvPX9MTlnpy/3x6wnIPv/9MT1jKxQXkCBeQI1xAjnABOcIF5AgXkCNcQI5wATnCBeQIF5AjXECOcAE5wgXkCBeQI1xAjnABOcIF5AgXkCNcQI5wATnCBeQIF5AjXECOcAE5wgXkCBeQI1xAjnABOcIF5AgXkCNcQI5wATnCBeQIF5AjXECOcAE5wgXkCBeQI1xAjnABOcIF5AgXkCNcQI5wATnCBeQIF5AjXECOcAE5wgXkCBeQI1xAjnABOcIF5AgXkCNcQI5wATnCBeQIF5AjXECOcAE5/wA7ehwcF3KKlAAAAABJRU5ErkJggg==\" y=\"-30.877188\"/>\n   </g>\n   <g id=\"matplotlib.axis_1\">\n    <g id=\"xtick_1\">\n     <g id=\"line2d_1\">\n      <defs>\n       <path d=\"M 0 0 \nL 0 -8 \n\" id=\"m235d372469\" style=\"stroke:#4c4c4c;stroke-width:0.8;\"/>\n      </defs>\n      <g>\n       <use style=\"fill:#4c4c4c;stroke:#4c4c4c;stroke-width:0.8;\" x=\"85.980094\" xlink:href=\"#m235d372469\" y=\"248.317188\"/>\n      </g>\n     </g>\n     <g id=\"text_1\">\n      <!-- $\\mathdefault{680}$ -->\n      <g style=\"fill:#4c4c4c;\" transform=\"translate(74.520094 260.935313)scale(0.12 -0.12)\">\n       <defs>\n        <path d=\"M 2113 2584 \nQ 1688 2584 1439 2293 \nQ 1191 2003 1191 1497 \nQ 1191 994 1439 701 \nQ 1688 409 2113 409 \nQ 2538 409 2786 701 \nQ 3034 994 3034 1497 \nQ 3034 2003 2786 2293 \nQ 2538 2584 2113 2584 \nz\nM 3366 4563 \nL 3366 3988 \nQ 3128 4100 2886 4159 \nQ 2644 4219 2406 4219 \nQ 1781 4219 1451 3797 \nQ 1122 3375 1075 2522 \nQ 1259 2794 1537 2939 \nQ 1816 3084 2150 3084 \nQ 2853 3084 3261 2657 \nQ 3669 2231 3669 1497 \nQ 3669 778 3244 343 \nQ 2819 -91 2113 -91 \nQ 1303 -91 875 529 \nQ 447 1150 447 2328 \nQ 447 3434 972 4092 \nQ 1497 4750 2381 4750 \nQ 2619 4750 2861 4703 \nQ 3103 4656 3366 4563 \nz\n\" id=\"DejaVuSans-36\" transform=\"scale(0.015625)\"/>\n        <path d=\"M 2034 2216 \nQ 1584 2216 1326 1975 \nQ 1069 1734 1069 1313 \nQ 1069 891 1326 650 \nQ 1584 409 2034 409 \nQ 2484 409 2743 651 \nQ 3003 894 3003 1313 \nQ 3003 1734 2745 1975 \nQ 2488 2216 2034 2216 \nz\nM 1403 2484 \nQ 997 2584 770 2862 \nQ 544 3141 544 3541 \nQ 544 4100 942 4425 \nQ 1341 4750 2034 4750 \nQ 2731 4750 3128 4425 \nQ 3525 4100 3525 3541 \nQ 3525 3141 3298 2862 \nQ 3072 2584 2669 2484 \nQ 3125 2378 3379 2068 \nQ 3634 1759 3634 1313 \nQ 3634 634 3220 271 \nQ 2806 -91 2034 -91 \nQ 1263 -91 848 271 \nQ 434 634 434 1313 \nQ 434 1759 690 2068 \nQ 947 2378 1403 2484 \nz\nM 1172 3481 \nQ 1172 3119 1398 2916 \nQ 1625 2713 2034 2713 \nQ 2441 2713 2670 2916 \nQ 2900 3119 2900 3481 \nQ 2900 3844 2670 4047 \nQ 2441 4250 2034 4250 \nQ 1625 4250 1398 4047 \nQ 1172 3844 1172 3481 \nz\n\" id=\"DejaVuSans-38\" transform=\"scale(0.015625)\"/>\n        <path d=\"M 2034 4250 \nQ 1547 4250 1301 3770 \nQ 1056 3291 1056 2328 \nQ 1056 1369 1301 889 \nQ 1547 409 2034 409 \nQ 2525 409 2770 889 \nQ 3016 1369 3016 2328 \nQ 3016 3291 2770 3770 \nQ 2525 4250 2034 4250 \nz\nM 2034 4750 \nQ 2819 4750 3233 4129 \nQ 3647 3509 3647 2328 \nQ 3647 1150 3233 529 \nQ 2819 -91 2034 -91 \nQ 1250 -91 836 529 \nQ 422 1150 422 2328 \nQ 422 3509 836 4129 \nQ 1250 4750 2034 4750 \nz\n\" id=\"DejaVuSans-30\" transform=\"scale(0.015625)\"/>\n       </defs>\n       <use transform=\"translate(0 0.78125)\" xlink:href=\"#DejaVuSans-36\"/>\n       <use transform=\"translate(63.623047 0.78125)\" xlink:href=\"#DejaVuSans-38\"/>\n       <use transform=\"translate(127.246094 0.78125)\" xlink:href=\"#DejaVuSans-30\"/>\n      </g>\n     </g>\n    </g>\n    <g id=\"xtick_2\">\n     <g id=\"line2d_2\">\n      <g>\n       <use style=\"fill:#4c4c4c;stroke:#4c4c4c;stroke-width:0.8;\" x=\"129.468094\" xlink:href=\"#m235d372469\" y=\"248.317188\"/>\n      </g>\n     </g>\n     <g id=\"text_2\">\n      <!-- $\\mathdefault{681}$ -->\n      <g style=\"fill:#4c4c4c;\" transform=\"translate(118.008094 260.935313)scale(0.12 -0.12)\">\n       <defs>\n        <path d=\"M 794 531 \nL 1825 531 \nL 1825 4091 \nL 703 3866 \nL 703 4441 \nL 1819 4666 \nL 2450 4666 \nL 2450 531 \nL 3481 531 \nL 3481 0 \nL 794 0 \nL 794 531 \nz\n\" id=\"DejaVuSans-31\" transform=\"scale(0.015625)\"/>\n       </defs>\n       <use transform=\"translate(0 0.78125)\" xlink:href=\"#DejaVuSans-36\"/>\n       <use transform=\"translate(63.623047 0.78125)\" xlink:href=\"#DejaVuSans-38\"/>\n       <use transform=\"translate(127.246094 0.78125)\" xlink:href=\"#DejaVuSans-31\"/>\n      </g>\n     </g>\n    </g>\n    <g id=\"xtick_3\">\n     <g id=\"line2d_3\">\n      <g>\n       <use style=\"fill:#4c4c4c;stroke:#4c4c4c;stroke-width:0.8;\" x=\"172.956094\" xlink:href=\"#m235d372469\" y=\"248.317188\"/>\n      </g>\n     </g>\n     <g id=\"text_3\">\n      <!-- $\\mathdefault{682}$ -->\n      <g style=\"fill:#4c4c4c;\" transform=\"translate(161.496094 260.935313)scale(0.12 -0.12)\">\n       <defs>\n        <path d=\"M 1228 531 \nL 3431 531 \nL 3431 0 \nL 469 0 \nL 469 531 \nQ 828 903 1448 1529 \nQ 2069 2156 2228 2338 \nQ 2531 2678 2651 2914 \nQ 2772 3150 2772 3378 \nQ 2772 3750 2511 3984 \nQ 2250 4219 1831 4219 \nQ 1534 4219 1204 4116 \nQ 875 4013 500 3803 \nL 500 4441 \nQ 881 4594 1212 4672 \nQ 1544 4750 1819 4750 \nQ 2544 4750 2975 4387 \nQ 3406 4025 3406 3419 \nQ 3406 3131 3298 2873 \nQ 3191 2616 2906 2266 \nQ 2828 2175 2409 1742 \nQ 1991 1309 1228 531 \nz\n\" id=\"DejaVuSans-32\" transform=\"scale(0.015625)\"/>\n       </defs>\n       <use transform=\"translate(0 0.78125)\" xlink:href=\"#DejaVuSans-36\"/>\n       <use transform=\"translate(63.623047 0.78125)\" xlink:href=\"#DejaVuSans-38\"/>\n       <use transform=\"translate(127.246094 0.78125)\" xlink:href=\"#DejaVuSans-32\"/>\n      </g>\n     </g>\n    </g>\n    <g id=\"xtick_4\">\n     <g id=\"line2d_4\">\n      <g>\n       <use style=\"fill:#4c4c4c;stroke:#4c4c4c;stroke-width:0.8;\" x=\"216.444094\" xlink:href=\"#m235d372469\" y=\"248.317188\"/>\n      </g>\n     </g>\n     <g id=\"text_4\">\n      <!-- $\\mathdefault{683}$ -->\n      <g style=\"fill:#4c4c4c;\" transform=\"translate(204.984094 260.935313)scale(0.12 -0.12)\">\n       <defs>\n        <path d=\"M 2597 2516 \nQ 3050 2419 3304 2112 \nQ 3559 1806 3559 1356 \nQ 3559 666 3084 287 \nQ 2609 -91 1734 -91 \nQ 1441 -91 1130 -33 \nQ 819 25 488 141 \nL 488 750 \nQ 750 597 1062 519 \nQ 1375 441 1716 441 \nQ 2309 441 2620 675 \nQ 2931 909 2931 1356 \nQ 2931 1769 2642 2001 \nQ 2353 2234 1838 2234 \nL 1294 2234 \nL 1294 2753 \nL 1863 2753 \nQ 2328 2753 2575 2939 \nQ 2822 3125 2822 3475 \nQ 2822 3834 2567 4026 \nQ 2313 4219 1838 4219 \nQ 1578 4219 1281 4162 \nQ 984 4106 628 3988 \nL 628 4550 \nQ 988 4650 1302 4700 \nQ 1616 4750 1894 4750 \nQ 2613 4750 3031 4423 \nQ 3450 4097 3450 3541 \nQ 3450 3153 3228 2886 \nQ 3006 2619 2597 2516 \nz\n\" id=\"DejaVuSans-33\" transform=\"scale(0.015625)\"/>\n       </defs>\n       <use transform=\"translate(0 0.78125)\" xlink:href=\"#DejaVuSans-36\"/>\n       <use transform=\"translate(63.623047 0.78125)\" xlink:href=\"#DejaVuSans-38\"/>\n       <use transform=\"translate(127.246094 0.78125)\" xlink:href=\"#DejaVuSans-33\"/>\n      </g>\n     </g>\n    </g>\n    <g id=\"xtick_5\">\n     <g id=\"line2d_5\">\n      <g>\n       <use style=\"fill:#4c4c4c;stroke:#4c4c4c;stroke-width:0.8;\" x=\"259.932094\" xlink:href=\"#m235d372469\" y=\"248.317188\"/>\n      </g>\n     </g>\n     <g id=\"text_5\">\n      <!-- $\\mathdefault{684}$ -->\n      <g style=\"fill:#4c4c4c;\" transform=\"translate(248.472094 260.935313)scale(0.12 -0.12)\">\n       <defs>\n        <path d=\"M 2419 4116 \nL 825 1625 \nL 2419 1625 \nL 2419 4116 \nz\nM 2253 4666 \nL 3047 4666 \nL 3047 1625 \nL 3713 1625 \nL 3713 1100 \nL 3047 1100 \nL 3047 0 \nL 2419 0 \nL 2419 1100 \nL 313 1100 \nL 313 1709 \nL 2253 4666 \nz\n\" id=\"DejaVuSans-34\" transform=\"scale(0.015625)\"/>\n       </defs>\n       <use transform=\"translate(0 0.78125)\" xlink:href=\"#DejaVuSans-36\"/>\n       <use transform=\"translate(63.623047 0.78125)\" xlink:href=\"#DejaVuSans-38\"/>\n       <use transform=\"translate(127.246094 0.78125)\" xlink:href=\"#DejaVuSans-34\"/>\n      </g>\n     </g>\n    </g>\n    <g id=\"xtick_6\">\n     <g id=\"line2d_6\">\n      <defs>\n       <path d=\"M 0 0 \nL 0 -4 \n\" id=\"mfa845a8062\" style=\"stroke:#4c4c4c;stroke-width:0.6;\"/>\n      </defs>\n      <g>\n       <use style=\"fill:#4c4c4c;stroke:#4c4c4c;stroke-width:0.6;\" x=\"68.584894\" xlink:href=\"#mfa845a8062\" y=\"248.317188\"/>\n      </g>\n     </g>\n    </g>\n    <g id=\"xtick_7\">\n     <g id=\"line2d_7\">\n      <g>\n       <use style=\"fill:#4c4c4c;stroke:#4c4c4c;stroke-width:0.6;\" x=\"77.282494\" xlink:href=\"#mfa845a8062\" y=\"248.317188\"/>\n      </g>\n     </g>\n    </g>\n    <g id=\"xtick_8\">\n     <g id=\"line2d_8\">\n      <g>\n       <use style=\"fill:#4c4c4c;stroke:#4c4c4c;stroke-width:0.6;\" x=\"94.677694\" xlink:href=\"#mfa845a8062\" y=\"248.317188\"/>\n      </g>\n     </g>\n    </g>\n    <g id=\"xtick_9\">\n     <g id=\"line2d_9\">\n      <g>\n       <use style=\"fill:#4c4c4c;stroke:#4c4c4c;stroke-width:0.6;\" x=\"103.375294\" xlink:href=\"#mfa845a8062\" y=\"248.317188\"/>\n      </g>\n     </g>\n    </g>\n    <g id=\"xtick_10\">\n     <g id=\"line2d_10\">\n      <g>\n       <use style=\"fill:#4c4c4c;stroke:#4c4c4c;stroke-width:0.6;\" x=\"112.072894\" xlink:href=\"#mfa845a8062\" y=\"248.317188\"/>\n      </g>\n     </g>\n    </g>\n    <g id=\"xtick_11\">\n     <g id=\"line2d_11\">\n      <g>\n       <use style=\"fill:#4c4c4c;stroke:#4c4c4c;stroke-width:0.6;\" x=\"120.770494\" xlink:href=\"#mfa845a8062\" y=\"248.317188\"/>\n      </g>\n     </g>\n    </g>\n    <g id=\"xtick_12\">\n     <g id=\"line2d_12\">\n      <g>\n       <use style=\"fill:#4c4c4c;stroke:#4c4c4c;stroke-width:0.6;\" x=\"138.165694\" xlink:href=\"#mfa845a8062\" y=\"248.317188\"/>\n      </g>\n     </g>\n    </g>\n    <g id=\"xtick_13\">\n     <g id=\"line2d_13\">\n      <g>\n       <use style=\"fill:#4c4c4c;stroke:#4c4c4c;stroke-width:0.6;\" x=\"146.863294\" xlink:href=\"#mfa845a8062\" y=\"248.317188\"/>\n      </g>\n     </g>\n    </g>\n    <g id=\"xtick_14\">\n     <g id=\"line2d_14\">\n      <g>\n       <use style=\"fill:#4c4c4c;stroke:#4c4c4c;stroke-width:0.6;\" x=\"155.560894\" xlink:href=\"#mfa845a8062\" y=\"248.317188\"/>\n      </g>\n     </g>\n    </g>\n    <g id=\"xtick_15\">\n     <g id=\"line2d_15\">\n      <g>\n       <use style=\"fill:#4c4c4c;stroke:#4c4c4c;stroke-width:0.6;\" x=\"164.258494\" xlink:href=\"#mfa845a8062\" y=\"248.317188\"/>\n      </g>\n     </g>\n    </g>\n    <g id=\"xtick_16\">\n     <g id=\"line2d_16\">\n      <g>\n       <use style=\"fill:#4c4c4c;stroke:#4c4c4c;stroke-width:0.6;\" x=\"181.653694\" xlink:href=\"#mfa845a8062\" y=\"248.317188\"/>\n      </g>\n     </g>\n    </g>\n    <g id=\"xtick_17\">\n     <g id=\"line2d_17\">\n      <g>\n       <use style=\"fill:#4c4c4c;stroke:#4c4c4c;stroke-width:0.6;\" x=\"190.351294\" xlink:href=\"#mfa845a8062\" y=\"248.317188\"/>\n      </g>\n     </g>\n    </g>\n    <g id=\"xtick_18\">\n     <g id=\"line2d_18\">\n      <g>\n       <use style=\"fill:#4c4c4c;stroke:#4c4c4c;stroke-width:0.6;\" x=\"199.048894\" xlink:href=\"#mfa845a8062\" y=\"248.317188\"/>\n      </g>\n     </g>\n    </g>\n    <g id=\"xtick_19\">\n     <g id=\"line2d_19\">\n      <g>\n       <use style=\"fill:#4c4c4c;stroke:#4c4c4c;stroke-width:0.6;\" x=\"207.746494\" xlink:href=\"#mfa845a8062\" y=\"248.317188\"/>\n      </g>\n     </g>\n    </g>\n    <g id=\"xtick_20\">\n     <g id=\"line2d_20\">\n      <g>\n       <use style=\"fill:#4c4c4c;stroke:#4c4c4c;stroke-width:0.6;\" x=\"225.141694\" xlink:href=\"#mfa845a8062\" y=\"248.317188\"/>\n      </g>\n     </g>\n    </g>\n    <g id=\"xtick_21\">\n     <g id=\"line2d_21\">\n      <g>\n       <use style=\"fill:#4c4c4c;stroke:#4c4c4c;stroke-width:0.6;\" x=\"233.839294\" xlink:href=\"#mfa845a8062\" y=\"248.317188\"/>\n      </g>\n     </g>\n    </g>\n    <g id=\"xtick_22\">\n     <g id=\"line2d_22\">\n      <g>\n       <use style=\"fill:#4c4c4c;stroke:#4c4c4c;stroke-width:0.6;\" x=\"242.536894\" xlink:href=\"#mfa845a8062\" y=\"248.317188\"/>\n      </g>\n     </g>\n    </g>\n    <g id=\"xtick_23\">\n     <g id=\"line2d_23\">\n      <g>\n       <use style=\"fill:#4c4c4c;stroke:#4c4c4c;stroke-width:0.6;\" x=\"251.234494\" xlink:href=\"#mfa845a8062\" y=\"248.317188\"/>\n      </g>\n     </g>\n    </g>\n    <g id=\"xtick_24\">\n     <g id=\"line2d_24\">\n      <g>\n       <use style=\"fill:#4c4c4c;stroke:#4c4c4c;stroke-width:0.6;\" x=\"268.629694\" xlink:href=\"#mfa845a8062\" y=\"248.317188\"/>\n      </g>\n     </g>\n    </g>\n    <g id=\"xtick_25\">\n     <g id=\"line2d_25\">\n      <g>\n       <use style=\"fill:#4c4c4c;stroke:#4c4c4c;stroke-width:0.6;\" x=\"277.327294\" xlink:href=\"#mfa845a8062\" y=\"248.317188\"/>\n      </g>\n     </g>\n    </g>\n    <g id=\"text_6\">\n     <!-- Pixel Column Number -->\n     <g style=\"fill:#4c4c4c;\" transform=\"translate(91.998281 278.828594)scale(0.15 -0.15)\">\n      <defs>\n       <path d=\"M 1259 4147 \nL 1259 2394 \nL 2053 2394 \nQ 2494 2394 2734 2622 \nQ 2975 2850 2975 3272 \nQ 2975 3691 2734 3919 \nQ 2494 4147 2053 4147 \nL 1259 4147 \nz\nM 628 4666 \nL 2053 4666 \nQ 2838 4666 3239 4311 \nQ 3641 3956 3641 3272 \nQ 3641 2581 3239 2228 \nQ 2838 1875 2053 1875 \nL 1259 1875 \nL 1259 0 \nL 628 0 \nL 628 4666 \nz\n\" id=\"DejaVuSans-50\" transform=\"scale(0.015625)\"/>\n       <path d=\"M 603 3500 \nL 1178 3500 \nL 1178 0 \nL 603 0 \nL 603 3500 \nz\nM 603 4863 \nL 1178 4863 \nL 1178 4134 \nL 603 4134 \nL 603 4863 \nz\n\" id=\"DejaVuSans-69\" transform=\"scale(0.015625)\"/>\n       <path d=\"M 3513 3500 \nL 2247 1797 \nL 3578 0 \nL 2900 0 \nL 1881 1375 \nL 863 0 \nL 184 0 \nL 1544 1831 \nL 300 3500 \nL 978 3500 \nL 1906 2253 \nL 2834 3500 \nL 3513 3500 \nz\n\" id=\"DejaVuSans-78\" transform=\"scale(0.015625)\"/>\n       <path d=\"M 3597 1894 \nL 3597 1613 \nL 953 1613 \nQ 991 1019 1311 708 \nQ 1631 397 2203 397 \nQ 2534 397 2845 478 \nQ 3156 559 3463 722 \nL 3463 178 \nQ 3153 47 2828 -22 \nQ 2503 -91 2169 -91 \nQ 1331 -91 842 396 \nQ 353 884 353 1716 \nQ 353 2575 817 3079 \nQ 1281 3584 2069 3584 \nQ 2775 3584 3186 3129 \nQ 3597 2675 3597 1894 \nz\nM 3022 2063 \nQ 3016 2534 2758 2815 \nQ 2500 3097 2075 3097 \nQ 1594 3097 1305 2825 \nQ 1016 2553 972 2059 \nL 3022 2063 \nz\n\" id=\"DejaVuSans-65\" transform=\"scale(0.015625)\"/>\n       <path d=\"M 603 4863 \nL 1178 4863 \nL 1178 0 \nL 603 0 \nL 603 4863 \nz\n\" id=\"DejaVuSans-6c\" transform=\"scale(0.015625)\"/>\n       <path id=\"DejaVuSans-20\" transform=\"scale(0.015625)\"/>\n       <path d=\"M 4122 4306 \nL 4122 3641 \nQ 3803 3938 3442 4084 \nQ 3081 4231 2675 4231 \nQ 1875 4231 1450 3742 \nQ 1025 3253 1025 2328 \nQ 1025 1406 1450 917 \nQ 1875 428 2675 428 \nQ 3081 428 3442 575 \nQ 3803 722 4122 1019 \nL 4122 359 \nQ 3791 134 3420 21 \nQ 3050 -91 2638 -91 \nQ 1578 -91 968 557 \nQ 359 1206 359 2328 \nQ 359 3453 968 4101 \nQ 1578 4750 2638 4750 \nQ 3056 4750 3426 4639 \nQ 3797 4528 4122 4306 \nz\n\" id=\"DejaVuSans-43\" transform=\"scale(0.015625)\"/>\n       <path d=\"M 1959 3097 \nQ 1497 3097 1228 2736 \nQ 959 2375 959 1747 \nQ 959 1119 1226 758 \nQ 1494 397 1959 397 \nQ 2419 397 2687 759 \nQ 2956 1122 2956 1747 \nQ 2956 2369 2687 2733 \nQ 2419 3097 1959 3097 \nz\nM 1959 3584 \nQ 2709 3584 3137 3096 \nQ 3566 2609 3566 1747 \nQ 3566 888 3137 398 \nQ 2709 -91 1959 -91 \nQ 1206 -91 779 398 \nQ 353 888 353 1747 \nQ 353 2609 779 3096 \nQ 1206 3584 1959 3584 \nz\n\" id=\"DejaVuSans-6f\" transform=\"scale(0.015625)\"/>\n       <path d=\"M 544 1381 \nL 544 3500 \nL 1119 3500 \nL 1119 1403 \nQ 1119 906 1312 657 \nQ 1506 409 1894 409 \nQ 2359 409 2629 706 \nQ 2900 1003 2900 1516 \nL 2900 3500 \nL 3475 3500 \nL 3475 0 \nL 2900 0 \nL 2900 538 \nQ 2691 219 2414 64 \nQ 2138 -91 1772 -91 \nQ 1169 -91 856 284 \nQ 544 659 544 1381 \nz\nM 1991 3584 \nL 1991 3584 \nz\n\" id=\"DejaVuSans-75\" transform=\"scale(0.015625)\"/>\n       <path d=\"M 3328 2828 \nQ 3544 3216 3844 3400 \nQ 4144 3584 4550 3584 \nQ 5097 3584 5394 3201 \nQ 5691 2819 5691 2113 \nL 5691 0 \nL 5113 0 \nL 5113 2094 \nQ 5113 2597 4934 2840 \nQ 4756 3084 4391 3084 \nQ 3944 3084 3684 2787 \nQ 3425 2491 3425 1978 \nL 3425 0 \nL 2847 0 \nL 2847 2094 \nQ 2847 2600 2669 2842 \nQ 2491 3084 2119 3084 \nQ 1678 3084 1418 2786 \nQ 1159 2488 1159 1978 \nL 1159 0 \nL 581 0 \nL 581 3500 \nL 1159 3500 \nL 1159 2956 \nQ 1356 3278 1631 3431 \nQ 1906 3584 2284 3584 \nQ 2666 3584 2933 3390 \nQ 3200 3197 3328 2828 \nz\n\" id=\"DejaVuSans-6d\" transform=\"scale(0.015625)\"/>\n       <path d=\"M 3513 2113 \nL 3513 0 \nL 2938 0 \nL 2938 2094 \nQ 2938 2591 2744 2837 \nQ 2550 3084 2163 3084 \nQ 1697 3084 1428 2787 \nQ 1159 2491 1159 1978 \nL 1159 0 \nL 581 0 \nL 581 3500 \nL 1159 3500 \nL 1159 2956 \nQ 1366 3272 1645 3428 \nQ 1925 3584 2291 3584 \nQ 2894 3584 3203 3211 \nQ 3513 2838 3513 2113 \nz\n\" id=\"DejaVuSans-6e\" transform=\"scale(0.015625)\"/>\n       <path d=\"M 628 4666 \nL 1478 4666 \nL 3547 763 \nL 3547 4666 \nL 4159 4666 \nL 4159 0 \nL 3309 0 \nL 1241 3903 \nL 1241 0 \nL 628 0 \nL 628 4666 \nz\n\" id=\"DejaVuSans-4e\" transform=\"scale(0.015625)\"/>\n       <path d=\"M 3116 1747 \nQ 3116 2381 2855 2742 \nQ 2594 3103 2138 3103 \nQ 1681 3103 1420 2742 \nQ 1159 2381 1159 1747 \nQ 1159 1113 1420 752 \nQ 1681 391 2138 391 \nQ 2594 391 2855 752 \nQ 3116 1113 3116 1747 \nz\nM 1159 2969 \nQ 1341 3281 1617 3432 \nQ 1894 3584 2278 3584 \nQ 2916 3584 3314 3078 \nQ 3713 2572 3713 1747 \nQ 3713 922 3314 415 \nQ 2916 -91 2278 -91 \nQ 1894 -91 1617 61 \nQ 1341 213 1159 525 \nL 1159 0 \nL 581 0 \nL 581 4863 \nL 1159 4863 \nL 1159 2969 \nz\n\" id=\"DejaVuSans-62\" transform=\"scale(0.015625)\"/>\n       <path d=\"M 2631 2963 \nQ 2534 3019 2420 3045 \nQ 2306 3072 2169 3072 \nQ 1681 3072 1420 2755 \nQ 1159 2438 1159 1844 \nL 1159 0 \nL 581 0 \nL 581 3500 \nL 1159 3500 \nL 1159 2956 \nQ 1341 3275 1631 3429 \nQ 1922 3584 2338 3584 \nQ 2397 3584 2469 3576 \nQ 2541 3569 2628 3553 \nL 2631 2963 \nz\n\" id=\"DejaVuSans-72\" transform=\"scale(0.015625)\"/>\n      </defs>\n      <use xlink:href=\"#DejaVuSans-50\"/>\n      <use x=\"58.052734\" xlink:href=\"#DejaVuSans-69\"/>\n      <use x=\"85.835938\" xlink:href=\"#DejaVuSans-78\"/>\n      <use x=\"141.890625\" xlink:href=\"#DejaVuSans-65\"/>\n      <use x=\"203.414062\" xlink:href=\"#DejaVuSans-6c\"/>\n      <use x=\"231.197266\" xlink:href=\"#DejaVuSans-20\"/>\n      <use x=\"262.984375\" xlink:href=\"#DejaVuSans-43\"/>\n      <use x=\"332.808594\" xlink:href=\"#DejaVuSans-6f\"/>\n      <use x=\"393.990234\" xlink:href=\"#DejaVuSans-6c\"/>\n      <use x=\"421.773438\" xlink:href=\"#DejaVuSans-75\"/>\n      <use x=\"485.152344\" xlink:href=\"#DejaVuSans-6d\"/>\n      <use x=\"582.564453\" xlink:href=\"#DejaVuSans-6e\"/>\n      <use x=\"645.943359\" xlink:href=\"#DejaVuSans-20\"/>\n      <use x=\"677.730469\" xlink:href=\"#DejaVuSans-4e\"/>\n      <use x=\"752.535156\" xlink:href=\"#DejaVuSans-75\"/>\n      <use x=\"815.914062\" xlink:href=\"#DejaVuSans-6d\"/>\n      <use x=\"913.326172\" xlink:href=\"#DejaVuSans-62\"/>\n      <use x=\"976.802734\" xlink:href=\"#DejaVuSans-65\"/>\n      <use x=\"1038.326172\" xlink:href=\"#DejaVuSans-72\"/>\n     </g>\n    </g>\n   </g>\n   <g id=\"matplotlib.axis_2\">\n    <g id=\"ytick_1\">\n     <g id=\"line2d_26\">\n      <defs>\n       <path d=\"M 0 0 \nL 8 0 \n\" id=\"m6390399aae\" style=\"stroke:#4c4c4c;stroke-width:0.8;\"/>\n      </defs>\n      <g>\n       <use style=\"fill:#4c4c4c;stroke:#4c4c4c;stroke-width:0.8;\" x=\"64.236094\" xlink:href=\"#m6390399aae\" y=\"226.573188\"/>\n      </g>\n     </g>\n     <g id=\"text_7\">\n      <!-- $\\mathdefault{188}$ -->\n      <g style=\"fill:#4c4c4c;\" transform=\"translate(37.816094 231.13225)scale(0.12 -0.12)\">\n       <use transform=\"translate(0 0.78125)\" xlink:href=\"#DejaVuSans-31\"/>\n       <use transform=\"translate(63.623047 0.78125)\" xlink:href=\"#DejaVuSans-38\"/>\n       <use transform=\"translate(127.246094 0.78125)\" xlink:href=\"#DejaVuSans-38\"/>\n      </g>\n     </g>\n    </g>\n    <g id=\"ytick_2\">\n     <g id=\"line2d_27\">\n      <g>\n       <use style=\"fill:#4c4c4c;stroke:#4c4c4c;stroke-width:0.8;\" x=\"64.236094\" xlink:href=\"#m6390399aae\" y=\"183.085188\"/>\n      </g>\n     </g>\n     <g id=\"text_8\">\n      <!-- $\\mathdefault{189}$ -->\n      <g style=\"fill:#4c4c4c;\" transform=\"translate(37.816094 187.64425)scale(0.12 -0.12)\">\n       <defs>\n        <path d=\"M 703 97 \nL 703 672 \nQ 941 559 1184 500 \nQ 1428 441 1663 441 \nQ 2288 441 2617 861 \nQ 2947 1281 2994 2138 \nQ 2813 1869 2534 1725 \nQ 2256 1581 1919 1581 \nQ 1219 1581 811 2004 \nQ 403 2428 403 3163 \nQ 403 3881 828 4315 \nQ 1253 4750 1959 4750 \nQ 2769 4750 3195 4129 \nQ 3622 3509 3622 2328 \nQ 3622 1225 3098 567 \nQ 2575 -91 1691 -91 \nQ 1453 -91 1209 -44 \nQ 966 3 703 97 \nz\nM 1959 2075 \nQ 2384 2075 2632 2365 \nQ 2881 2656 2881 3163 \nQ 2881 3666 2632 3958 \nQ 2384 4250 1959 4250 \nQ 1534 4250 1286 3958 \nQ 1038 3666 1038 3163 \nQ 1038 2656 1286 2365 \nQ 1534 2075 1959 2075 \nz\n\" id=\"DejaVuSans-39\" transform=\"scale(0.015625)\"/>\n       </defs>\n       <use transform=\"translate(0 0.78125)\" xlink:href=\"#DejaVuSans-31\"/>\n       <use transform=\"translate(63.623047 0.78125)\" xlink:href=\"#DejaVuSans-38\"/>\n       <use transform=\"translate(127.246094 0.78125)\" xlink:href=\"#DejaVuSans-39\"/>\n      </g>\n     </g>\n    </g>\n    <g id=\"ytick_3\">\n     <g id=\"line2d_28\">\n      <g>\n       <use style=\"fill:#4c4c4c;stroke:#4c4c4c;stroke-width:0.8;\" x=\"64.236094\" xlink:href=\"#m6390399aae\" y=\"139.597188\"/>\n      </g>\n     </g>\n     <g id=\"text_9\">\n      <!-- $\\mathdefault{190}$ -->\n      <g style=\"fill:#4c4c4c;\" transform=\"translate(37.816094 144.15625)scale(0.12 -0.12)\">\n       <use transform=\"translate(0 0.78125)\" xlink:href=\"#DejaVuSans-31\"/>\n       <use transform=\"translate(63.623047 0.78125)\" xlink:href=\"#DejaVuSans-39\"/>\n       <use transform=\"translate(127.246094 0.78125)\" xlink:href=\"#DejaVuSans-30\"/>\n      </g>\n     </g>\n    </g>\n    <g id=\"ytick_4\">\n     <g id=\"line2d_29\">\n      <g>\n       <use style=\"fill:#4c4c4c;stroke:#4c4c4c;stroke-width:0.8;\" x=\"64.236094\" xlink:href=\"#m6390399aae\" y=\"96.109188\"/>\n      </g>\n     </g>\n     <g id=\"text_10\">\n      <!-- $\\mathdefault{191}$ -->\n      <g style=\"fill:#4c4c4c;\" transform=\"translate(37.816094 100.66825)scale(0.12 -0.12)\">\n       <use transform=\"translate(0 0.78125)\" xlink:href=\"#DejaVuSans-31\"/>\n       <use transform=\"translate(63.623047 0.78125)\" xlink:href=\"#DejaVuSans-39\"/>\n       <use transform=\"translate(127.246094 0.78125)\" xlink:href=\"#DejaVuSans-31\"/>\n      </g>\n     </g>\n    </g>\n    <g id=\"ytick_5\">\n     <g id=\"line2d_30\">\n      <g>\n       <use style=\"fill:#4c4c4c;stroke:#4c4c4c;stroke-width:0.8;\" x=\"64.236094\" xlink:href=\"#m6390399aae\" y=\"52.621188\"/>\n      </g>\n     </g>\n     <g id=\"text_11\">\n      <!-- $\\mathdefault{192}$ -->\n      <g style=\"fill:#4c4c4c;\" transform=\"translate(37.936094 57.18025)scale(0.12 -0.12)\">\n       <use transform=\"translate(0 0.78125)\" xlink:href=\"#DejaVuSans-31\"/>\n       <use transform=\"translate(63.623047 0.78125)\" xlink:href=\"#DejaVuSans-39\"/>\n       <use transform=\"translate(125.496094 0.78125)\" xlink:href=\"#DejaVuSans-32\"/>\n      </g>\n     </g>\n    </g>\n    <g id=\"ytick_6\">\n     <g id=\"line2d_31\">\n      <defs>\n       <path d=\"M 0 0 \nL 4 0 \n\" id=\"m2905e584ba\" style=\"stroke:#4c4c4c;stroke-width:0.6;\"/>\n      </defs>\n      <g>\n       <use style=\"fill:#4c4c4c;stroke:#4c4c4c;stroke-width:0.6;\" x=\"64.236094\" xlink:href=\"#m2905e584ba\" y=\"243.968388\"/>\n      </g>\n     </g>\n    </g>\n    <g id=\"ytick_7\">\n     <g id=\"line2d_32\">\n      <g>\n       <use style=\"fill:#4c4c4c;stroke:#4c4c4c;stroke-width:0.6;\" x=\"64.236094\" xlink:href=\"#m2905e584ba\" y=\"235.270788\"/>\n      </g>\n     </g>\n    </g>\n    <g id=\"ytick_8\">\n     <g id=\"line2d_33\">\n      <g>\n       <use style=\"fill:#4c4c4c;stroke:#4c4c4c;stroke-width:0.6;\" x=\"64.236094\" xlink:href=\"#m2905e584ba\" y=\"217.875588\"/>\n      </g>\n     </g>\n    </g>\n    <g id=\"ytick_9\">\n     <g id=\"line2d_34\">\n      <g>\n       <use style=\"fill:#4c4c4c;stroke:#4c4c4c;stroke-width:0.6;\" x=\"64.236094\" xlink:href=\"#m2905e584ba\" y=\"209.177988\"/>\n      </g>\n     </g>\n    </g>\n    <g id=\"ytick_10\">\n     <g id=\"line2d_35\">\n      <g>\n       <use style=\"fill:#4c4c4c;stroke:#4c4c4c;stroke-width:0.6;\" x=\"64.236094\" xlink:href=\"#m2905e584ba\" y=\"200.480388\"/>\n      </g>\n     </g>\n    </g>\n    <g id=\"ytick_11\">\n     <g id=\"line2d_36\">\n      <g>\n       <use style=\"fill:#4c4c4c;stroke:#4c4c4c;stroke-width:0.6;\" x=\"64.236094\" xlink:href=\"#m2905e584ba\" y=\"191.782788\"/>\n      </g>\n     </g>\n    </g>\n    <g id=\"ytick_12\">\n     <g id=\"line2d_37\">\n      <g>\n       <use style=\"fill:#4c4c4c;stroke:#4c4c4c;stroke-width:0.6;\" x=\"64.236094\" xlink:href=\"#m2905e584ba\" y=\"174.387588\"/>\n      </g>\n     </g>\n    </g>\n    <g id=\"ytick_13\">\n     <g id=\"line2d_38\">\n      <g>\n       <use style=\"fill:#4c4c4c;stroke:#4c4c4c;stroke-width:0.6;\" x=\"64.236094\" xlink:href=\"#m2905e584ba\" y=\"165.689987\"/>\n      </g>\n     </g>\n    </g>\n    <g id=\"ytick_14\">\n     <g id=\"line2d_39\">\n      <g>\n       <use style=\"fill:#4c4c4c;stroke:#4c4c4c;stroke-width:0.6;\" x=\"64.236094\" xlink:href=\"#m2905e584ba\" y=\"156.992388\"/>\n      </g>\n     </g>\n    </g>\n    <g id=\"ytick_15\">\n     <g id=\"line2d_40\">\n      <g>\n       <use style=\"fill:#4c4c4c;stroke:#4c4c4c;stroke-width:0.6;\" x=\"64.236094\" xlink:href=\"#m2905e584ba\" y=\"148.294788\"/>\n      </g>\n     </g>\n    </g>\n    <g id=\"ytick_16\">\n     <g id=\"line2d_41\">\n      <g>\n       <use style=\"fill:#4c4c4c;stroke:#4c4c4c;stroke-width:0.6;\" x=\"64.236094\" xlink:href=\"#m2905e584ba\" y=\"130.899588\"/>\n      </g>\n     </g>\n    </g>\n    <g id=\"ytick_17\">\n     <g id=\"line2d_42\">\n      <g>\n       <use style=\"fill:#4c4c4c;stroke:#4c4c4c;stroke-width:0.6;\" x=\"64.236094\" xlink:href=\"#m2905e584ba\" y=\"122.201988\"/>\n      </g>\n     </g>\n    </g>\n    <g id=\"ytick_18\">\n     <g id=\"line2d_43\">\n      <g>\n       <use style=\"fill:#4c4c4c;stroke:#4c4c4c;stroke-width:0.6;\" x=\"64.236094\" xlink:href=\"#m2905e584ba\" y=\"113.504388\"/>\n      </g>\n     </g>\n    </g>\n    <g id=\"ytick_19\">\n     <g id=\"line2d_44\">\n      <g>\n       <use style=\"fill:#4c4c4c;stroke:#4c4c4c;stroke-width:0.6;\" x=\"64.236094\" xlink:href=\"#m2905e584ba\" y=\"104.806787\"/>\n      </g>\n     </g>\n    </g>\n    <g id=\"ytick_20\">\n     <g id=\"line2d_45\">\n      <g>\n       <use style=\"fill:#4c4c4c;stroke:#4c4c4c;stroke-width:0.6;\" x=\"64.236094\" xlink:href=\"#m2905e584ba\" y=\"87.411588\"/>\n      </g>\n     </g>\n    </g>\n    <g id=\"ytick_21\">\n     <g id=\"line2d_46\">\n      <g>\n       <use style=\"fill:#4c4c4c;stroke:#4c4c4c;stroke-width:0.6;\" x=\"64.236094\" xlink:href=\"#m2905e584ba\" y=\"78.713988\"/>\n      </g>\n     </g>\n    </g>\n    <g id=\"ytick_22\">\n     <g id=\"line2d_47\">\n      <g>\n       <use style=\"fill:#4c4c4c;stroke:#4c4c4c;stroke-width:0.6;\" x=\"64.236094\" xlink:href=\"#m2905e584ba\" y=\"70.016388\"/>\n      </g>\n     </g>\n    </g>\n    <g id=\"ytick_23\">\n     <g id=\"line2d_48\">\n      <g>\n       <use style=\"fill:#4c4c4c;stroke:#4c4c4c;stroke-width:0.6;\" x=\"64.236094\" xlink:href=\"#m2905e584ba\" y=\"61.318788\"/>\n      </g>\n     </g>\n    </g>\n    <g id=\"ytick_24\">\n     <g id=\"line2d_49\">\n      <g>\n       <use style=\"fill:#4c4c4c;stroke:#4c4c4c;stroke-width:0.6;\" x=\"64.236094\" xlink:href=\"#m2905e584ba\" y=\"43.923588\"/>\n      </g>\n     </g>\n    </g>\n    <g id=\"ytick_25\">\n     <g id=\"line2d_50\">\n      <g>\n       <use style=\"fill:#4c4c4c;stroke:#4c4c4c;stroke-width:0.6;\" x=\"64.236094\" xlink:href=\"#m2905e584ba\" y=\"35.225987\"/>\n      </g>\n     </g>\n    </g>\n    <g id=\"text_12\">\n     <!-- Pixel Row Number -->\n     <g style=\"fill:#4c4c4c;\" transform=\"translate(30.696562 207.43)rotate(-90)scale(0.15 -0.15)\">\n      <defs>\n       <path d=\"M 2841 2188 \nQ 3044 2119 3236 1894 \nQ 3428 1669 3622 1275 \nL 4263 0 \nL 3584 0 \nL 2988 1197 \nQ 2756 1666 2539 1819 \nQ 2322 1972 1947 1972 \nL 1259 1972 \nL 1259 0 \nL 628 0 \nL 628 4666 \nL 2053 4666 \nQ 2853 4666 3247 4331 \nQ 3641 3997 3641 3322 \nQ 3641 2881 3436 2590 \nQ 3231 2300 2841 2188 \nz\nM 1259 4147 \nL 1259 2491 \nL 2053 2491 \nQ 2509 2491 2742 2702 \nQ 2975 2913 2975 3322 \nQ 2975 3731 2742 3939 \nQ 2509 4147 2053 4147 \nL 1259 4147 \nz\n\" id=\"DejaVuSans-52\" transform=\"scale(0.015625)\"/>\n       <path d=\"M 269 3500 \nL 844 3500 \nL 1563 769 \nL 2278 3500 \nL 2956 3500 \nL 3675 769 \nL 4391 3500 \nL 4966 3500 \nL 4050 0 \nL 3372 0 \nL 2619 2869 \nL 1863 0 \nL 1184 0 \nL 269 3500 \nz\n\" id=\"DejaVuSans-77\" transform=\"scale(0.015625)\"/>\n      </defs>\n      <use xlink:href=\"#DejaVuSans-50\"/>\n      <use x=\"58.052734\" xlink:href=\"#DejaVuSans-69\"/>\n      <use x=\"85.835938\" xlink:href=\"#DejaVuSans-78\"/>\n      <use x=\"141.890625\" xlink:href=\"#DejaVuSans-65\"/>\n      <use x=\"203.414062\" xlink:href=\"#DejaVuSans-6c\"/>\n      <use x=\"231.197266\" xlink:href=\"#DejaVuSans-20\"/>\n      <use x=\"262.984375\" xlink:href=\"#DejaVuSans-52\"/>\n      <use x=\"327.966797\" xlink:href=\"#DejaVuSans-6f\"/>\n      <use x=\"389.148438\" xlink:href=\"#DejaVuSans-77\"/>\n      <use x=\"470.935547\" xlink:href=\"#DejaVuSans-20\"/>\n      <use x=\"502.722656\" xlink:href=\"#DejaVuSans-4e\"/>\n      <use x=\"577.527344\" xlink:href=\"#DejaVuSans-75\"/>\n      <use x=\"640.90625\" xlink:href=\"#DejaVuSans-6d\"/>\n      <use x=\"738.318359\" xlink:href=\"#DejaVuSans-62\"/>\n      <use x=\"801.794922\" xlink:href=\"#DejaVuSans-65\"/>\n      <use x=\"863.318359\" xlink:href=\"#DejaVuSans-72\"/>\n     </g>\n    </g>\n   </g>\n   <g id=\"patch_3\">\n    <path d=\"M 64.236094 248.317188 \nL 64.236094 30.877188 \n\" style=\"fill:none;stroke:#4c4c4c;stroke-linecap:square;stroke-linejoin:miter;stroke-width:0.8;\"/>\n   </g>\n   <g id=\"patch_4\">\n    <path d=\"M 281.676094 248.317188 \nL 281.676094 30.877188 \n\" style=\"fill:none;stroke:#4c4c4c;stroke-linecap:square;stroke-linejoin:miter;stroke-width:0.8;\"/>\n   </g>\n   <g id=\"patch_5\">\n    <path d=\"M 64.236094 248.317188 \nL 281.676094 248.317188 \n\" style=\"fill:none;stroke:#4c4c4c;stroke-linecap:square;stroke-linejoin:miter;stroke-width:0.8;\"/>\n   </g>\n   <g id=\"patch_6\">\n    <path d=\"M 64.236094 30.877188 \nL 281.676094 30.877188 \n\" style=\"fill:none;stroke:#4c4c4c;stroke-linecap:square;stroke-linejoin:miter;stroke-width:0.8;\"/>\n   </g>\n   <g id=\"text_13\">\n    <!-- Target ID: 6922244, Cadence: 11914 -->\n    <g style=\"fill:#4c4c4c;\" transform=\"translate(7.2 20.877188)scale(0.18 -0.18)\">\n     <defs>\n      <path d=\"M -19 4666 \nL 3928 4666 \nL 3928 4134 \nL 2272 4134 \nL 2272 0 \nL 1638 0 \nL 1638 4134 \nL -19 4134 \nL -19 4666 \nz\n\" id=\"DejaVuSans-54\" transform=\"scale(0.015625)\"/>\n      <path d=\"M 2194 1759 \nQ 1497 1759 1228 1600 \nQ 959 1441 959 1056 \nQ 959 750 1161 570 \nQ 1363 391 1709 391 \nQ 2188 391 2477 730 \nQ 2766 1069 2766 1631 \nL 2766 1759 \nL 2194 1759 \nz\nM 3341 1997 \nL 3341 0 \nL 2766 0 \nL 2766 531 \nQ 2569 213 2275 61 \nQ 1981 -91 1556 -91 \nQ 1019 -91 701 211 \nQ 384 513 384 1019 \nQ 384 1609 779 1909 \nQ 1175 2209 1959 2209 \nL 2766 2209 \nL 2766 2266 \nQ 2766 2663 2505 2880 \nQ 2244 3097 1772 3097 \nQ 1472 3097 1187 3025 \nQ 903 2953 641 2809 \nL 641 3341 \nQ 956 3463 1253 3523 \nQ 1550 3584 1831 3584 \nQ 2591 3584 2966 3190 \nQ 3341 2797 3341 1997 \nz\n\" id=\"DejaVuSans-61\" transform=\"scale(0.015625)\"/>\n      <path d=\"M 2906 1791 \nQ 2906 2416 2648 2759 \nQ 2391 3103 1925 3103 \nQ 1463 3103 1205 2759 \nQ 947 2416 947 1791 \nQ 947 1169 1205 825 \nQ 1463 481 1925 481 \nQ 2391 481 2648 825 \nQ 2906 1169 2906 1791 \nz\nM 3481 434 \nQ 3481 -459 3084 -895 \nQ 2688 -1331 1869 -1331 \nQ 1566 -1331 1297 -1286 \nQ 1028 -1241 775 -1147 \nL 775 -588 \nQ 1028 -725 1275 -790 \nQ 1522 -856 1778 -856 \nQ 2344 -856 2625 -561 \nQ 2906 -266 2906 331 \nL 2906 616 \nQ 2728 306 2450 153 \nQ 2172 0 1784 0 \nQ 1141 0 747 490 \nQ 353 981 353 1791 \nQ 353 2603 747 3093 \nQ 1141 3584 1784 3584 \nQ 2172 3584 2450 3431 \nQ 2728 3278 2906 2969 \nL 2906 3500 \nL 3481 3500 \nL 3481 434 \nz\n\" id=\"DejaVuSans-67\" transform=\"scale(0.015625)\"/>\n      <path d=\"M 1172 4494 \nL 1172 3500 \nL 2356 3500 \nL 2356 3053 \nL 1172 3053 \nL 1172 1153 \nQ 1172 725 1289 603 \nQ 1406 481 1766 481 \nL 2356 481 \nL 2356 0 \nL 1766 0 \nQ 1100 0 847 248 \nQ 594 497 594 1153 \nL 594 3053 \nL 172 3053 \nL 172 3500 \nL 594 3500 \nL 594 4494 \nL 1172 4494 \nz\n\" id=\"DejaVuSans-74\" transform=\"scale(0.015625)\"/>\n      <path d=\"M 628 4666 \nL 1259 4666 \nL 1259 0 \nL 628 0 \nL 628 4666 \nz\n\" id=\"DejaVuSans-49\" transform=\"scale(0.015625)\"/>\n      <path d=\"M 1259 4147 \nL 1259 519 \nL 2022 519 \nQ 2988 519 3436 956 \nQ 3884 1394 3884 2338 \nQ 3884 3275 3436 3711 \nQ 2988 4147 2022 4147 \nL 1259 4147 \nz\nM 628 4666 \nL 1925 4666 \nQ 3281 4666 3915 4102 \nQ 4550 3538 4550 2338 \nQ 4550 1131 3912 565 \nQ 3275 0 1925 0 \nL 628 0 \nL 628 4666 \nz\n\" id=\"DejaVuSans-44\" transform=\"scale(0.015625)\"/>\n      <path d=\"M 750 794 \nL 1409 794 \nL 1409 0 \nL 750 0 \nL 750 794 \nz\nM 750 3309 \nL 1409 3309 \nL 1409 2516 \nL 750 2516 \nL 750 3309 \nz\n\" id=\"DejaVuSans-3a\" transform=\"scale(0.015625)\"/>\n      <path d=\"M 750 794 \nL 1409 794 \nL 1409 256 \nL 897 -744 \nL 494 -744 \nL 750 256 \nL 750 794 \nz\n\" id=\"DejaVuSans-2c\" transform=\"scale(0.015625)\"/>\n      <path d=\"M 2906 2969 \nL 2906 4863 \nL 3481 4863 \nL 3481 0 \nL 2906 0 \nL 2906 525 \nQ 2725 213 2448 61 \nQ 2172 -91 1784 -91 \nQ 1150 -91 751 415 \nQ 353 922 353 1747 \nQ 353 2572 751 3078 \nQ 1150 3584 1784 3584 \nQ 2172 3584 2448 3432 \nQ 2725 3281 2906 2969 \nz\nM 947 1747 \nQ 947 1113 1208 752 \nQ 1469 391 1925 391 \nQ 2381 391 2643 752 \nQ 2906 1113 2906 1747 \nQ 2906 2381 2643 2742 \nQ 2381 3103 1925 3103 \nQ 1469 3103 1208 2742 \nQ 947 2381 947 1747 \nz\n\" id=\"DejaVuSans-64\" transform=\"scale(0.015625)\"/>\n      <path d=\"M 3122 3366 \nL 3122 2828 \nQ 2878 2963 2633 3030 \nQ 2388 3097 2138 3097 \nQ 1578 3097 1268 2742 \nQ 959 2388 959 1747 \nQ 959 1106 1268 751 \nQ 1578 397 2138 397 \nQ 2388 397 2633 464 \nQ 2878 531 3122 666 \nL 3122 134 \nQ 2881 22 2623 -34 \nQ 2366 -91 2075 -91 \nQ 1284 -91 818 406 \nQ 353 903 353 1747 \nQ 353 2603 823 3093 \nQ 1294 3584 2113 3584 \nQ 2378 3584 2631 3529 \nQ 2884 3475 3122 3366 \nz\n\" id=\"DejaVuSans-63\" transform=\"scale(0.015625)\"/>\n     </defs>\n     <use xlink:href=\"#DejaVuSans-54\"/>\n     <use x=\"44.583984\" xlink:href=\"#DejaVuSans-61\"/>\n     <use x=\"105.863281\" xlink:href=\"#DejaVuSans-72\"/>\n     <use x=\"145.226562\" xlink:href=\"#DejaVuSans-67\"/>\n     <use x=\"208.703125\" xlink:href=\"#DejaVuSans-65\"/>\n     <use x=\"270.226562\" xlink:href=\"#DejaVuSans-74\"/>\n     <use x=\"309.435547\" xlink:href=\"#DejaVuSans-20\"/>\n     <use x=\"341.222656\" xlink:href=\"#DejaVuSans-49\"/>\n     <use x=\"370.714844\" xlink:href=\"#DejaVuSans-44\"/>\n     <use x=\"447.716797\" xlink:href=\"#DejaVuSans-3a\"/>\n     <use x=\"481.408203\" xlink:href=\"#DejaVuSans-20\"/>\n     <use x=\"513.195312\" xlink:href=\"#DejaVuSans-36\"/>\n     <use x=\"576.818359\" xlink:href=\"#DejaVuSans-39\"/>\n     <use x=\"640.441406\" xlink:href=\"#DejaVuSans-32\"/>\n     <use x=\"704.064453\" xlink:href=\"#DejaVuSans-32\"/>\n     <use x=\"767.6875\" xlink:href=\"#DejaVuSans-32\"/>\n     <use x=\"831.310547\" xlink:href=\"#DejaVuSans-34\"/>\n     <use x=\"894.933594\" xlink:href=\"#DejaVuSans-34\"/>\n     <use x=\"958.556641\" xlink:href=\"#DejaVuSans-2c\"/>\n     <use x=\"990.34375\" xlink:href=\"#DejaVuSans-20\"/>\n     <use x=\"1022.130859\" xlink:href=\"#DejaVuSans-43\"/>\n     <use x=\"1091.955078\" xlink:href=\"#DejaVuSans-61\"/>\n     <use x=\"1153.234375\" xlink:href=\"#DejaVuSans-64\"/>\n     <use x=\"1216.710938\" xlink:href=\"#DejaVuSans-65\"/>\n     <use x=\"1278.234375\" xlink:href=\"#DejaVuSans-6e\"/>\n     <use x=\"1341.613281\" xlink:href=\"#DejaVuSans-63\"/>\n     <use x=\"1396.59375\" xlink:href=\"#DejaVuSans-65\"/>\n     <use x=\"1458.117188\" xlink:href=\"#DejaVuSans-3a\"/>\n     <use x=\"1491.808594\" xlink:href=\"#DejaVuSans-20\"/>\n     <use x=\"1523.595703\" xlink:href=\"#DejaVuSans-31\"/>\n     <use x=\"1587.21875\" xlink:href=\"#DejaVuSans-31\"/>\n     <use x=\"1650.841797\" xlink:href=\"#DejaVuSans-39\"/>\n     <use x=\"1714.464844\" xlink:href=\"#DejaVuSans-31\"/>\n     <use x=\"1778.087891\" xlink:href=\"#DejaVuSans-34\"/>\n    </g>\n   </g>\n  </g>\n  <g id=\"axes_2\">\n   <g id=\"patch_7\">\n    <path d=\"M 305.349244 248.317188 \nL 316.221244 248.317188 \nL 316.221244 30.877188 \nL 305.349244 30.877188 \nz\n\" style=\"fill:#ffffff;\"/>\n   </g>\n   <g id=\"patch_8\">\n    <path clip-path=\"url(#p879f27400c)\" d=\"M 305.349244 248.317188 \nL 305.349244 247.467813 \nL 305.349244 31.726563 \nL 305.349244 30.877188 \nL 316.221244 30.877188 \nL 316.221244 31.726563 \nL 316.221244 247.467813 \nL 316.221244 248.317188 \nL 316.221244 248.317188 \nz\n\" style=\"fill:#ffffff;stroke:#ffffff;stroke-linejoin:miter;stroke-width:0.01;\"/>\n   </g>\n   <image height=\"217.44\" id=\"imagef990418b32\" transform=\"scale(1 -1)translate(0 -217.44)\" width=\"10.8\" x=\"305.28\" xlink:href=\"data:image/png;base64,\niVBORw0KGgoAAAANSUhEUgAAAA8AAAEuCAYAAABRUUhtAAABmUlEQVR4nO2c0W0DMQxDLd2NlhGy/yi5zBA9IA+EnX+CEilKbhu0XvV+1vBzr+opdt3VNQdrzHPaRcteTDAAriZlA2aotlU2s6oih4QGA6mt+eyBxR1m7W1vAcYGwxLsYWWPsblWHbX/xxwqGCx7jlWtEtWWmKnaAOwFQ5tt5LO6wxAzAZNnhVY2s0pbBqLPJxi/MrNbRZiPVSHM6hoKZY589Yr3OdLnVLU39Nn8AUVjzhyS1FTtqHZmz6FDEhqMLcsOHU8zGPM7GTphoVaJwSBDEvt8FMsGanvBCF1D5jKwfAa/Jom1ioGXZ5XEzKzSyvZmG/VM1UbgyNkGxK5VaMIAc1uznRoMT7Am50brWQyGaJXlc6raqWDNqlTBtAXo7bCuDwEnCoZ6ZmpfomCWz5dVtrjDoM+eVaFqE8HIeDJmAiapEi+GtgzQbIv3GZWdGgzWc6RV3mx7t4oMiWmVFgy2PbXjLvZsvYa8smkwvJf+GIuDMf/QYBAw+EMG6vm+yHfWm5RNeoavXlQ2Ewz8VwFY9pyZqj3HfwEkV41e/rj2AwAAAABJRU5ErkJggg==\" y=\"-30.24\"/>\n   <g id=\"matplotlib.axis_3\"/>\n   <g id=\"matplotlib.axis_4\">\n    <g id=\"ytick_26\">\n     <g id=\"text_14\">\n      <!-- $\\mathdefault{2000}$ -->\n      <g style=\"fill:#4c4c4c;\" transform=\"translate(319.721244 224.879325)scale(0.12 -0.12)\">\n       <use transform=\"translate(0 0.78125)\" xlink:href=\"#DejaVuSans-32\"/>\n       <use transform=\"translate(63.623047 0.78125)\" xlink:href=\"#DejaVuSans-30\"/>\n       <use transform=\"translate(127.246094 0.78125)\" xlink:href=\"#DejaVuSans-30\"/>\n       <use transform=\"translate(190.869141 0.78125)\" xlink:href=\"#DejaVuSans-30\"/>\n      </g>\n     </g>\n    </g>\n    <g id=\"ytick_27\">\n     <g id=\"text_15\">\n      <!-- $\\mathdefault{4000}$ -->\n      <g style=\"fill:#4c4c4c;\" transform=\"translate(319.721244 196.638365)scale(0.12 -0.12)\">\n       <use transform=\"translate(0 0.78125)\" xlink:href=\"#DejaVuSans-34\"/>\n       <use transform=\"translate(63.623047 0.78125)\" xlink:href=\"#DejaVuSans-30\"/>\n       <use transform=\"translate(127.246094 0.78125)\" xlink:href=\"#DejaVuSans-30\"/>\n       <use transform=\"translate(190.869141 0.78125)\" xlink:href=\"#DejaVuSans-30\"/>\n      </g>\n     </g>\n    </g>\n    <g id=\"ytick_28\">\n     <g id=\"text_16\">\n      <!-- $\\mathdefault{6000}$ -->\n      <g style=\"fill:#4c4c4c;\" transform=\"translate(319.721244 168.397405)scale(0.12 -0.12)\">\n       <use transform=\"translate(0 0.78125)\" xlink:href=\"#DejaVuSans-36\"/>\n       <use transform=\"translate(63.623047 0.78125)\" xlink:href=\"#DejaVuSans-30\"/>\n       <use transform=\"translate(127.246094 0.78125)\" xlink:href=\"#DejaVuSans-30\"/>\n       <use transform=\"translate(190.869141 0.78125)\" xlink:href=\"#DejaVuSans-30\"/>\n      </g>\n     </g>\n    </g>\n    <g id=\"ytick_29\">\n     <g id=\"text_17\">\n      <!-- $\\mathdefault{8000}$ -->\n      <g style=\"fill:#4c4c4c;\" transform=\"translate(319.721244 140.156446)scale(0.12 -0.12)\">\n       <use transform=\"translate(0 0.78125)\" xlink:href=\"#DejaVuSans-38\"/>\n       <use transform=\"translate(63.623047 0.78125)\" xlink:href=\"#DejaVuSans-30\"/>\n       <use transform=\"translate(127.246094 0.78125)\" xlink:href=\"#DejaVuSans-30\"/>\n       <use transform=\"translate(190.869141 0.78125)\" xlink:href=\"#DejaVuSans-30\"/>\n      </g>\n     </g>\n    </g>\n    <g id=\"ytick_30\">\n     <g id=\"text_18\">\n      <!-- $\\mathdefault{10000}$ -->\n      <g style=\"fill:#4c4c4c;\" transform=\"translate(319.721244 111.915486)scale(0.12 -0.12)\">\n       <use transform=\"translate(0 0.78125)\" xlink:href=\"#DejaVuSans-31\"/>\n       <use transform=\"translate(63.623047 0.78125)\" xlink:href=\"#DejaVuSans-30\"/>\n       <use transform=\"translate(127.246094 0.78125)\" xlink:href=\"#DejaVuSans-30\"/>\n       <use transform=\"translate(190.869141 0.78125)\" xlink:href=\"#DejaVuSans-30\"/>\n       <use transform=\"translate(254.492188 0.78125)\" xlink:href=\"#DejaVuSans-30\"/>\n      </g>\n     </g>\n    </g>\n    <g id=\"ytick_31\">\n     <g id=\"text_19\">\n      <!-- $\\mathdefault{12000}$ -->\n      <g style=\"fill:#4c4c4c;\" transform=\"translate(319.721244 83.674526)scale(0.12 -0.12)\">\n       <use transform=\"translate(0 0.78125)\" xlink:href=\"#DejaVuSans-31\"/>\n       <use transform=\"translate(63.623047 0.78125)\" xlink:href=\"#DejaVuSans-32\"/>\n       <use transform=\"translate(127.246094 0.78125)\" xlink:href=\"#DejaVuSans-30\"/>\n       <use transform=\"translate(190.869141 0.78125)\" xlink:href=\"#DejaVuSans-30\"/>\n       <use transform=\"translate(254.492188 0.78125)\" xlink:href=\"#DejaVuSans-30\"/>\n      </g>\n     </g>\n    </g>\n    <g id=\"ytick_32\">\n     <g id=\"text_20\">\n      <!-- $\\mathdefault{14000}$ -->\n      <g style=\"fill:#4c4c4c;\" transform=\"translate(319.721244 55.433567)scale(0.12 -0.12)\">\n       <use transform=\"translate(0 0.78125)\" xlink:href=\"#DejaVuSans-31\"/>\n       <use transform=\"translate(63.623047 0.78125)\" xlink:href=\"#DejaVuSans-34\"/>\n       <use transform=\"translate(127.246094 0.78125)\" xlink:href=\"#DejaVuSans-30\"/>\n       <use transform=\"translate(190.869141 0.78125)\" xlink:href=\"#DejaVuSans-30\"/>\n       <use transform=\"translate(254.492188 0.78125)\" xlink:href=\"#DejaVuSans-30\"/>\n      </g>\n     </g>\n    </g>\n    <g id=\"text_21\">\n     <!-- Flux ($e^{-}s^{-1}$) -->\n     <g style=\"fill:#4c4c4c;\" transform=\"translate(374.481712 185.197188)rotate(-90)scale(0.15 -0.15)\">\n      <defs>\n       <path d=\"M 628 4666 \nL 3309 4666 \nL 3309 4134 \nL 1259 4134 \nL 1259 2759 \nL 3109 2759 \nL 3109 2228 \nL 1259 2228 \nL 1259 0 \nL 628 0 \nL 628 4666 \nz\n\" id=\"DejaVuSans-46\" transform=\"scale(0.015625)\"/>\n       <path d=\"M 1984 4856 \nQ 1566 4138 1362 3434 \nQ 1159 2731 1159 2009 \nQ 1159 1288 1364 580 \nQ 1569 -128 1984 -844 \nL 1484 -844 \nQ 1016 -109 783 600 \nQ 550 1309 550 2009 \nQ 550 2706 781 3412 \nQ 1013 4119 1484 4856 \nL 1984 4856 \nz\n\" id=\"DejaVuSans-28\" transform=\"scale(0.015625)\"/>\n       <path d=\"M 3078 2063 \nQ 3088 2113 3092 2166 \nQ 3097 2219 3097 2272 \nQ 3097 2653 2873 2875 \nQ 2650 3097 2266 3097 \nQ 1838 3097 1509 2826 \nQ 1181 2556 1013 2059 \nL 3078 2063 \nz\nM 3578 1613 \nL 903 1613 \nQ 884 1494 878 1425 \nQ 872 1356 872 1306 \nQ 872 872 1139 634 \nQ 1406 397 1894 397 \nQ 2269 397 2603 481 \nQ 2938 566 3225 728 \nL 3116 159 \nQ 2806 34 2476 -28 \nQ 2147 -91 1806 -91 \nQ 1078 -91 686 257 \nQ 294 606 294 1247 \nQ 294 1794 489 2264 \nQ 684 2734 1063 3103 \nQ 1306 3334 1642 3459 \nQ 1978 3584 2356 3584 \nQ 2950 3584 3301 3228 \nQ 3653 2872 3653 2272 \nQ 3653 2128 3634 1964 \nQ 3616 1800 3578 1613 \nz\n\" id=\"DejaVuSans-Oblique-65\" transform=\"scale(0.015625)\"/>\n       <path d=\"M 678 2272 \nL 4684 2272 \nL 4684 1741 \nL 678 1741 \nL 678 2272 \nz\n\" id=\"DejaVuSans-2212\" transform=\"scale(0.015625)\"/>\n       <path d=\"M 3200 3397 \nL 3091 2853 \nQ 2863 2978 2609 3040 \nQ 2356 3103 2088 3103 \nQ 1634 3103 1373 2948 \nQ 1113 2794 1113 2528 \nQ 1113 2219 1719 2053 \nQ 1766 2041 1788 2034 \nL 1972 1978 \nQ 2547 1819 2739 1644 \nQ 2931 1469 2931 1166 \nQ 2931 609 2489 259 \nQ 2047 -91 1331 -91 \nQ 1053 -91 747 -37 \nQ 441 16 72 128 \nL 184 722 \nQ 500 559 806 475 \nQ 1113 391 1394 391 \nQ 1816 391 2080 572 \nQ 2344 753 2344 1031 \nQ 2344 1331 1650 1516 \nL 1591 1531 \nL 1394 1581 \nQ 956 1697 753 1886 \nQ 550 2075 550 2369 \nQ 550 2928 970 3256 \nQ 1391 3584 2113 3584 \nQ 2397 3584 2667 3537 \nQ 2938 3491 3200 3397 \nz\n\" id=\"DejaVuSans-Oblique-73\" transform=\"scale(0.015625)\"/>\n       <path d=\"M 513 4856 \nL 1013 4856 \nQ 1481 4119 1714 3412 \nQ 1947 2706 1947 2009 \nQ 1947 1309 1714 600 \nQ 1481 -109 1013 -844 \nL 513 -844 \nQ 928 -128 1133 580 \nQ 1338 1288 1338 2009 \nQ 1338 2731 1133 3434 \nQ 928 4138 513 4856 \nz\n\" id=\"DejaVuSans-29\" transform=\"scale(0.015625)\"/>\n      </defs>\n      <use transform=\"translate(0 0.684375)\" xlink:href=\"#DejaVuSans-46\"/>\n      <use transform=\"translate(57.519531 0.684375)\" xlink:href=\"#DejaVuSans-6c\"/>\n      <use transform=\"translate(85.302734 0.684375)\" xlink:href=\"#DejaVuSans-75\"/>\n      <use transform=\"translate(148.681641 0.684375)\" xlink:href=\"#DejaVuSans-78\"/>\n      <use transform=\"translate(207.861328 0.684375)\" xlink:href=\"#DejaVuSans-20\"/>\n      <use transform=\"translate(239.648438 0.684375)\" xlink:href=\"#DejaVuSans-28\"/>\n      <use transform=\"translate(278.662109 0.684375)\" xlink:href=\"#DejaVuSans-Oblique-65\"/>\n      <use transform=\"translate(344.835443 38.965625)scale(0.7)\" xlink:href=\"#DejaVuSans-2212\"/>\n      <use transform=\"translate(406.222161 0.684375)\" xlink:href=\"#DejaVuSans-Oblique-73\"/>\n      <use transform=\"translate(462.971667 38.965625)scale(0.7)\" xlink:href=\"#DejaVuSans-2212\"/>\n      <use transform=\"translate(521.62401 38.965625)scale(0.7)\" xlink:href=\"#DejaVuSans-31\"/>\n      <use transform=\"translate(568.894518 0.684375)\" xlink:href=\"#DejaVuSans-29\"/>\n     </g>\n    </g>\n   </g>\n   <g id=\"LineCollection_1\"/>\n   <g id=\"patch_9\">\n    <path d=\"M 305.349244 248.317188 \nL 305.349244 247.467813 \nL 305.349244 31.726563 \nL 305.349244 30.877188 \nL 316.221244 30.877188 \nL 316.221244 31.726563 \nL 316.221244 247.467813 \nL 316.221244 248.317188 \nz\n\" style=\"fill:none;stroke:#4c4c4c;stroke-linecap:square;stroke-linejoin:miter;stroke-width:0.8;\"/>\n   </g>\n  </g>\n </g>\n <defs>\n  <clipPath id=\"p46d3d727e6\">\n   <rect height=\"217.44\" width=\"217.44\" x=\"64.236094\" y=\"30.877188\"/>\n  </clipPath>\n  <clipPath id=\"p879f27400c\">\n   <rect height=\"217.44\" width=\"10.872\" x=\"305.349244\" y=\"30.877188\"/>\n  </clipPath>\n </defs>\n</svg>\n",
      "image/png": "[encoded data removed]"
     },
     "metadata": {}
    }
   ],
   "source": [
    "%matplotlib inline\n",
    "tpf.plot();"
   ]
  },
  {
   "cell_type": "markdown",
   "metadata": {
    "colab_type": "text",
    "id": "NvOge8Rppw1K"
   },
   "source": [
    "What you are seeing in this figure are pixels on the CCD camera, with which Kepler-8 was observed. The color indicates the amount of flux in each pixel, in electrons per second. The y-axis shows the pixel row, and the x-axis shows the pixel column. The title tells us the *Kepler* Input Catalogue (KIC) identification number of the target, and the observing cadence of this image. By default, `plot()` shows the first observation cadence in the quarter, but this can be changed by passing optional keyword arguments. You can type `help(tpf.plot)` to see a full list of those options."
   ]
  },
  {
   "cell_type": "markdown",
   "metadata": {
    "colab_type": "text",
    "id": "J7fgNwrIqOKu"
   },
   "source": [
    "### Note\n",
    "\n",
    "You can also download TPF FITS files from the archive by hand, store them on your local disk, and open them using the `lk.read(<filename>)` function. This function will return a [KeplerTargetPixelFile](https://docs.lightkurve.org/reference/api/lightkurve.KeplerTargetPixelFile.html?highlight=keplertargetpixelfile) object just as in the above example. You can find out where Lightkurve stored a given TPF by typing `tpf.path`:"
   ]
  },
  {
   "cell_type": "code",
   "execution_count": 9,
   "metadata": {
    "colab": {
     "base_uri": "https://localhost:8080/",
     "height": 35
    },
    "colab_type": "code",
    "executionInfo": {
     "elapsed": 17233,
     "status": "ok",
     "timestamp": 1598458627901,
     "user": {
      "displayName": "Geert Barentsen",
      "photoUrl": "https://lh3.googleusercontent.com/a-/AOh14Gj8sjdnDeqdejfe7OoouYPIclAQV0KSTpsU469Jyeo=s64",
      "userId": "05704237875861987058"
     },
     "user_tz": 420
    },
    "id": "ZQsNGZGndxGG",
    "outputId": "d4ff8da2-bf32-4551-aced-0bc9750ee573"
   },
   "outputs": [
    {
     "output_type": "execute_result",
     "data": {
      "text/plain": [
       "'/Users/josephkarpinski/.lightkurve-cache/mastDownload/Kepler/kplr006922244_lc_Q111111111111111111/kplr006922244-2010078095331_lpd-targ.fits.gz'"
      ]
     },
     "metadata": {},
     "execution_count": 9
    }
   ],
   "source": [
    "tpf.path"
   ]
  },
  {
   "cell_type": "markdown",
   "metadata": {
    "colab_type": "text",
    "id": "RnYPeb8bPJcO"
   },
   "source": [
    "## 3. Accessing the Metadata"
   ]
  },
  {
   "cell_type": "markdown",
   "metadata": {
    "colab_type": "text",
    "id": "VYPAC5XrP-AQ"
   },
   "source": [
    "Our [KeplerTargetPixelFile](https://docs.lightkurve.org/reference/api/lightkurve.KeplerTargetPixelFile.html?highlight=keplertargetpixelfile) includes the observation's metadata, loaded from the header of the TPF files downloaded from MAST. Many of these are similar to the metadata stored in the `KeplerLightCurve`, which are discussed in the accompanying tutorial."
   ]
  },
  {
   "cell_type": "markdown",
   "metadata": {
    "colab_type": "text",
    "id": "Tt3GXT4LrKNn"
   },
   "source": [
    "The headers containing the metadata can be accessed from the [KeplerTargetPixelFile](https://docs.lightkurve.org/reference/api/lightkurve.KeplerTargetPixelFile.html?highlight=keplertargetpixelfile) through the [get_header()](https://docs.lightkurve.org/reference/api/lightkurve.KeplerTargetPixelFile.get_header.html?highlight=get_header) method.\n",
    "\n",
    "For example, the first extension (\"extension 0\") of the file provides metadata related to the star, such as its magnitude in different passbands, its movement and position on the sky, and its location on *Kepler*'s CCD detector:"
   ]
  },
  {
   "cell_type": "code",
   "execution_count": 10,
   "metadata": {
    "colab": {
     "base_uri": "https://localhost:8080/",
     "height": 1000
    },
    "colab_type": "code",
    "executionInfo": {
     "elapsed": 17229,
     "status": "ok",
     "timestamp": 1598458627903,
     "user": {
      "displayName": "Geert Barentsen",
      "photoUrl": "https://lh3.googleusercontent.com/a-/AOh14Gj8sjdnDeqdejfe7OoouYPIclAQV0KSTpsU469Jyeo=s64",
      "userId": "05704237875861987058"
     },
     "user_tz": 420
    },
    "id": "CbMck1dqraXf",
    "outputId": "5fda30df-f09c-4fe7-bc94-4da872f9ae87"
   },
   "outputs": [
    {
     "output_type": "execute_result",
     "data": {
      "text/plain": [
       "SIMPLE  =                    T / conforms to FITS standards                     \n",
       "BITPIX  =                    8 / array data type                                \n",
       "NAXIS   =                    0 / number of array dimensions                     \n",
       "EXTEND  =                    T / file contains extensions                       \n",
       "NEXTEND =                    2 / number of standard extensions                  \n",
       "EXTNAME = 'PRIMARY '           / name of extension                              \n",
       "EXTVER  =                    1 / extension version number (not format version)  \n",
       "ORIGIN  = 'NASA/Ames'          / institution responsible for creating this file \n",
       "DATE    = '2015-09-23'         / file creation date.                            \n",
       "CREATOR = '917482 TargetPixelExporterPipelineModule' / pipeline job and program \n",
       "PROCVER = 'svn+ssh://murzim/repo/soc/tags/release/9.3.25 r60410' / SW version   \n",
       "FILEVER = '6.1     '           / file format version                            \n",
       "TIMVERSN= 'OGIP/93-003'        / OGIP memo number for file format               \n",
       "TELESCOP= 'Kepler  '           / telescope                                      \n",
       "INSTRUME= 'Kepler Photometer'  / detector type                                  \n",
       "OBJECT  = 'KIC 6922244'        / string version of target id                    \n",
       "KEPLERID=              6922244 / unique Kepler target identifier                \n",
       "CHANNEL =                   31 / CCD channel                                    \n",
       "SKYGROUP=                   31 / roll-independent location of channel           \n",
       "MODULE  =                   10 / CCD module                                     \n",
       "OUTPUT  =                    3 / CCD output                                     \n",
       "QUARTER =                    4 / Observing quarter                              \n",
       "SEASON  =                    2 / mission season during which data was collected \n",
       "DATA_REL=                   25 / data release version number                    \n",
       "OBSMODE = 'long cadence'       / observing mode                                 \n",
       "MISSION = 'Kepler  '           / Mission name                                   \n",
       "TTABLEID=                   29 / target table id                                \n",
       "RADESYS = 'ICRS    '           / reference frame of celestial coordinates       \n",
       "RA_OBJ  =           281.288120 / [deg] right ascension                          \n",
       "DEC_OBJ =            42.451080 / [deg] declination                              \n",
       "EQUINOX =               2000.0 / equinox of celestial coordinate system         \n",
       "PMRA    =               0.0000 / [arcsec/yr] RA proper motion                   \n",
       "PMDEC   =               0.0000 / [arcsec/yr] Dec proper motion                  \n",
       "PMTOTAL =               0.0000 / [arcsec/yr] total proper motion                \n",
       "PARALLAX=                      / [arcsec] parallax                              \n",
       "GLON    =            71.658900 / [deg] galactic longitude                       \n",
       "GLAT    =            19.012749 / [deg] galactic latitude                        \n",
       "GMAG    =               13.886 / [mag] SDSS g band magnitude                    \n",
       "RMAG    =               13.511 / [mag] SDSS r band magnitude                    \n",
       "IMAG    =               13.424 / [mag] SDSS i band magnitude                    \n",
       "ZMAG    =               13.413 / [mag] SDSS z band magnitude                    \n",
       "D51MAG  =               13.700 / [mag] D51 magnitude,                           \n",
       "JMAG    =               12.576 / [mag] J band magnitude from 2MASS              \n",
       "HMAG    =               12.323 / [mag] H band magnitude from 2MASS              \n",
       "KMAG    =               12.292 / [mag] K band magnitude from 2MASS              \n",
       "KEPMAG  =               13.563 / [mag] Kepler magnitude (Kp)                    \n",
       "GRCOLOR =                0.375 / [mag] (g-r) color, SDSS bands                  \n",
       "JKCOLOR =                0.284 / [mag] (J-K) color, 2MASS bands                 \n",
       "GKCOLOR =                1.594 / [mag] (g-K) color, SDSS g - 2MASS K            \n",
       "TEFF    =                 6225 / [K] Effective temperature                      \n",
       "LOGG    =                4.169 / [cm/s2] log10 surface gravity                  \n",
       "FEH     =               -0.040 / [log10([Fe/H])]  metallicity                   \n",
       "EBMINUSV=                0.096 / [mag] E(B-V) reddening                         \n",
       "AV      =                0.297 / [mag] A_v extinction                           \n",
       "RADIUS  =                1.451 / [solar radii] stellar radius                   \n",
       "TMINDEX =            262064792 / unique 2MASS catalog ID                        \n",
       "SCPID   =            262064792 / unique SCP processing ID                       \n",
       "CHECKSUM= 'HkS5JjR5HjR5HjR5'   / HDU checksum updated 2015-09-23T02:52:42Z      "
      ]
     },
     "metadata": {},
     "execution_count": 10
    }
   ],
   "source": [
    "tpf.get_header(ext=0)"
   ]
  },
  {
   "cell_type": "markdown",
   "metadata": {
    "colab_type": "text",
    "id": "xxaE-9qSutKT"
   },
   "source": [
    "This is an Astropy [`astropy.io.fits.Header`](https://docs.astropy.org/en/stable/io/fits/api/headers.html) object, which has many convenient features. For example, you can retrieve the value of an individual keyword as follows:"
   ]
  },
  {
   "cell_type": "code",
   "execution_count": 11,
   "metadata": {
    "colab": {
     "base_uri": "https://localhost:8080/",
     "height": 34
    },
    "colab_type": "code",
    "executionInfo": {
     "elapsed": 17221,
     "status": "ok",
     "timestamp": 1598458627904,
     "user": {
      "displayName": "Geert Barentsen",
      "photoUrl": "https://lh3.googleusercontent.com/a-/AOh14Gj8sjdnDeqdejfe7OoouYPIclAQV0KSTpsU469Jyeo=s64",
      "userId": "05704237875861987058"
     },
     "user_tz": 420
    },
    "id": "I-OdcLDKutWR",
    "outputId": "b7dcefdd-51be-43ca-88b3-4a712ba4fbee"
   },
   "outputs": [
    {
     "output_type": "execute_result",
     "data": {
      "text/plain": [
       "4"
      ]
     },
     "metadata": {},
     "execution_count": 11
    }
   ],
   "source": [
    "tpf.get_header(ext=0).get('QUARTER')"
   ]
  },
  {
   "cell_type": "markdown",
   "metadata": {
    "colab_type": "text",
    "id": "KG6rOB66utpH"
   },
   "source": [
    "When constructing a [KeplerTargetPixelFile](https://docs.lightkurve.org/reference/api/lightkurve.KeplerTargetPixelFile.html?highlight=keplertargetpixelfile) from a FITS file, Lightkurve carries a subset of the metadata through into user-friendly object properties for convenience, which are available through shorthands (for example, `tpf.quarter`). You can view these properties with the the `show_properties()` method:"
   ]
  },
  {
   "cell_type": "code",
   "execution_count": 12,
   "metadata": {
    "colab": {
     "base_uri": "https://localhost:8080/",
     "height": 575
    },
    "colab_type": "code",
    "executionInfo": {
     "elapsed": 17214,
     "status": "ok",
     "timestamp": 1598458627906,
     "user": {
      "displayName": "Geert Barentsen",
      "photoUrl": "https://lh3.googleusercontent.com/a-/AOh14Gj8sjdnDeqdejfe7OoouYPIclAQV0KSTpsU469Jyeo=s64",
      "userId": "05704237875861987058"
     },
     "user_tz": 420
    },
    "id": "Z7dqJy7twKqB",
    "outputId": "b2621461-08c1-4339-d9e9-e3939d7e106a"
   },
   "outputs": [
    {
     "output_type": "stream",
     "name": "stdout",
     "text": [
      "   Attribute                                                                     Description                                                                  \n--------------- ----------------------------------------------------------------------------------------------------------------------------------------------\n        channel                                                                                                                                             31\n         column                                                                                                                                            680\n         module                                                                                                                                             10\n         output                                                                                                                                              3\n        quarter                                                                                                                                              4\n            row                                                                                                                                            188\n       targetid                                                                                                                                        6922244\n        mission                                                                                                                                         Kepler\n        obsmode                                                                                                                                   long cadence\n           path /Users/josephkarpinski/.lightkurve-cache/mastDownload/Kepler/kplr006922244_lc_Q111111111111111111/kplr006922244-2010078095331_lpd-targ.fits.gz\nquality_bitmask                                                                                                                                        default\n            hdu                                                                                                                PRIMARY, TARGETTABLES, APERTURE\n      cadenceno                                                                                                                                  array (4116,)\n           flux                                                                                                                             array (4116, 5, 5)\n       flux_bkg                                                                                                                             array (4116, 5, 5)\n   flux_bkg_err                                                                                                                             array (4116, 5, 5)\n       flux_err                                                                                                                             array (4116, 5, 5)\n  nan_time_mask                                                                                                                                  array (4116,)\n  pipeline_mask                                                                                                                                   array (5, 5)\n      pos_corr1                                                                                                                                  array (4116,)\n      pos_corr2                                                                                                                                  array (4116,)\n        quality                                                                                                                                  array (4116,)\n   quality_mask                                                                                                                                  array (4397,)\n       campaign                                                                                                                             <class 'NoneType'>\n            dec                                                                                                                                <class 'float'>\n           meta                                                                                          <class 'lightkurve.targetpixelfile.HduToMetaMapping'>\n             ra                                                                                                                                <class 'float'>\n          shape                                                                                                                                <class 'tuple'>\n           time                                                                                                               <class 'astropy.time.core.Time'>\n            wcs                                                                                                                            astropy.wcs.wcs.WCS\n"
     ]
    }
   ],
   "source": [
    "tpf.show_properties()"
   ]
  },
  {
   "cell_type": "markdown",
   "metadata": {
    "colab_type": "text",
    "id": "_A-Rx5LN1hd8"
   },
   "source": [
    "A new piece of metadata not included in the `KeplerLightCurve` objects is the [World Coordinate System](https://fits.gsfc.nasa.gov/fits_wcs.html) (WCS). The WCS contains information about how pixel positions map to celestial sky coordinates. This is important when comparing a TPF from a *Kepler*, *K2*, or *TESS* observation to an observation of the same star with a different telescope.\n",
    "\n",
    "You can access the WCS using [tpf.wcs](https://docs.lightkurve.org/reference/api/lightkurve.KeplerTargetPixelFile.wcs.html?highlight=wcs), which is an Astropy WCS object:"
   ]
  },
  {
   "cell_type": "code",
   "execution_count": 13,
   "metadata": {
    "colab": {
     "base_uri": "https://localhost:8080/",
     "height": 34
    },
    "colab_type": "code",
    "executionInfo": {
     "elapsed": 17208,
     "status": "ok",
     "timestamp": 1598458627908,
     "user": {
      "displayName": "Geert Barentsen",
      "photoUrl": "https://lh3.googleusercontent.com/a-/AOh14Gj8sjdnDeqdejfe7OoouYPIclAQV0KSTpsU469Jyeo=s64",
      "userId": "05704237875861987058"
     },
     "user_tz": 420
    },
    "id": "RNSQdygirs84",
    "outputId": "9f90d545-365a-403b-d35d-b913d0e2d6c2"
   },
   "outputs": [
    {
     "output_type": "execute_result",
     "data": {
      "text/plain": [
       "astropy.wcs.wcs.WCS"
      ]
     },
     "metadata": {},
     "execution_count": 13
    }
   ],
   "source": [
    "type(tpf.wcs)"
   ]
  },
  {
   "cell_type": "markdown",
   "metadata": {
    "colab_type": "text",
    "id": "hXXEiUrEf1-X"
   },
   "source": [
    "For example, you can obtain the sky coordinates for the bottom left corner of the TPF as follows:"
   ]
  },
  {
   "cell_type": "code",
   "execution_count": 14,
   "metadata": {
    "colab": {
     "base_uri": "https://localhost:8080/",
     "height": 52
    },
    "colab_type": "code",
    "executionInfo": {
     "elapsed": 17204,
     "status": "ok",
     "timestamp": 1598458627909,
     "user": {
      "displayName": "Geert Barentsen",
      "photoUrl": "https://lh3.googleusercontent.com/a-/AOh14Gj8sjdnDeqdejfe7OoouYPIclAQV0KSTpsU469Jyeo=s64",
      "userId": "05704237875861987058"
     },
     "user_tz": 420
    },
    "id": "TQ605X9RfSZx",
    "outputId": "79d92100-16c3-491a-8019-f54e054b0405"
   },
   "outputs": [
    {
     "output_type": "execute_result",
     "data": {
      "text/plain": [
       "<SkyCoord (ICRS): (ra, dec) in deg\n",
       "    (281.28757136, 42.44722193)>"
      ]
     },
     "metadata": {},
     "execution_count": 14
    }
   ],
   "source": [
    "tpf.wcs.pixel_to_world(0, 0)"
   ]
  },
  {
   "cell_type": "markdown",
   "metadata": {
    "colab_type": "text",
    "id": "fTPgSmPCOeym"
   },
   "source": [
    "Altogether, the metadata contains a lot of information, and you will rarely use it all, but it is important to know that it is available if you need it. For more details and a better overview of all of the metadata stored in a TPF, read the [*Kepler* Archive Manual](http://archive.stsci.edu/files/live/sites/mast/files/home/missions-and-data/kepler/_documents/archive_manual.pdf), specifically:\n",
    "  - Section 2.3.2 Target Pixel Data\n",
    "  - Appendix A.1: Target Pixel File Headers"
   ]
  },
  {
   "cell_type": "markdown",
   "metadata": {
    "colab_type": "text",
    "id": "MbgP7U-9rs9M"
   },
   "source": [
    "## 4. Time, Flux, and Background"
   ]
  },
  {
   "cell_type": "markdown",
   "metadata": {
    "colab_type": "text",
    "id": "rXQrHyPukS1B"
   },
   "source": [
    "Finally, we have the most important properties of the TPF: the time and flux information. Just like a `KeplerLightCurve` object, we can access the time information as an Astropy `Time` object as follows:"
   ]
  },
  {
   "cell_type": "code",
   "execution_count": 15,
   "metadata": {
    "colab": {
     "base_uri": "https://localhost:8080/",
     "height": 52
    },
    "colab_type": "code",
    "executionInfo": {
     "elapsed": 393,
     "status": "ok",
     "timestamp": 1598458810955,
     "user": {
      "displayName": "Geert Barentsen",
      "photoUrl": "https://lh3.googleusercontent.com/a-/AOh14Gj8sjdnDeqdejfe7OoouYPIclAQV0KSTpsU469Jyeo=s64",
      "userId": "05704237875861987058"
     },
     "user_tz": 420
    },
    "id": "ajuuDHv4kTyF",
    "outputId": "521da14a-2ba7-4a70-c50d-181b5f76a1a2"
   },
   "outputs": [
    {
     "output_type": "execute_result",
     "data": {
      "text/plain": [
       "<Time object: scale='tdb' format='bkjd' value=[352.37632485 352.39675805 352.43762445 ... 442.16263546 442.18306983\n",
       " 442.2035041 ]>"
      ]
     },
     "metadata": {},
     "execution_count": 15
    }
   ],
   "source": [
    "tpf.time"
   ]
  },
  {
   "cell_type": "markdown",
   "metadata": {
    "colab_type": "text",
    "id": "aQ7iv-Fwkmx9"
   },
   "source": [
    "The pixel brightness data is available as an Astropy `Quantity` object named `tpf.flux`:"
   ]
  },
  {
   "cell_type": "code",
   "execution_count": 16,
   "metadata": {
    "colab": {
     "base_uri": "https://localhost:8080/",
     "height": 60
    },
    "colab_type": "code",
    "executionInfo": {
     "elapsed": 500,
     "status": "ok",
     "timestamp": 1598459014943,
     "user": {
      "displayName": "Geert Barentsen",
      "photoUrl": "https://lh3.googleusercontent.com/a-/AOh14Gj8sjdnDeqdejfe7OoouYPIclAQV0KSTpsU469Jyeo=s64",
      "userId": "05704237875861987058"
     },
     "user_tz": 420
    },
    "id": "5IfhFBTUkkil",
    "outputId": "f0b60528-edc0-42b4-e9e2-f9b8854f523f"
   },
   "outputs": [
    {
     "output_type": "execute_result",
     "data": {
      "text/plain": [
       "<Quantity [[[           nan, 5.60793352e+00, 5.14911423e+01,\n",
       "             8.42417450e+01, 3.02213345e+01],\n",
       "            [4.40456200e+01, 7.68612289e+01, 1.12277588e+03,\n",
       "             3.22620288e+03, 4.54867767e+02],\n",
       "            [2.59111652e+01, 2.29075928e+02, 9.36265430e+03,\n",
       "             2.36062734e+04, 1.20877502e+03],\n",
       "            [4.01008301e+01, 8.85439270e+02, 1.71021179e+03,\n",
       "             2.62548706e+03, 7.07966064e+02],\n",
       "            [1.57194168e+02, 8.37134399e+02, 5.10215393e+02,\n",
       "             1.15010413e+03, 1.83133698e+02]],\n",
       "\n",
       "           [[           nan, 7.30513954e+00, 5.31206093e+01,\n",
       "             8.34255981e+01, 3.04983292e+01],\n",
       "            [4.64404182e+01, 7.44853592e+01, 1.12463477e+03,\n",
       "             3.23283984e+03, 4.52483459e+02],\n",
       "            [2.42621002e+01, 2.32487488e+02, 9.37024316e+03,\n",
       "             2.35965117e+04, 1.20796143e+03],\n",
       "            [3.92469826e+01, 8.89264282e+02, 1.70979224e+03,\n",
       "             2.62493188e+03, 7.09228638e+02],\n",
       "            [1.57988373e+02, 8.37045593e+02, 5.09172180e+02,\n",
       "             1.14985608e+03, 1.80919907e+02]],\n",
       "\n",
       "           [[           nan, 8.95569611e+00, 5.29112434e+01,\n",
       "             8.24217606e+01, 3.18605385e+01],\n",
       "            [4.58866463e+01, 7.45066605e+01, 1.12442004e+03,\n",
       "             3.22021191e+03, 4.52202850e+02],\n",
       "            [2.69490967e+01, 2.30851685e+02, 9.38362012e+03,\n",
       "             2.35919980e+04, 1.20878479e+03],\n",
       "            [4.03289909e+01, 8.88471558e+02, 1.71199255e+03,\n",
       "             2.62669043e+03, 7.11941589e+02],\n",
       "            [1.60731628e+02, 8.35272156e+02, 5.09881531e+02,\n",
       "             1.14669861e+03, 1.82326065e+02]],\n",
       "\n",
       "           ...,\n",
       "\n",
       "           [[           nan, 4.91209316e+00, 2.66890278e+01,\n",
       "             2.86165428e+01, 1.00237055e+01],\n",
       "            [2.80725441e+01, 3.18935051e+01, 5.42063416e+02,\n",
       "             7.82110901e+02, 1.80085648e+02],\n",
       "            [4.62323189e+01, 3.76810425e+02, 1.42619414e+04,\n",
       "             1.51289893e+04, 4.98481903e+02],\n",
       "            [4.32053413e+01, 1.07031360e+03, 4.52191553e+03,\n",
       "             5.82781445e+03, 8.56859985e+02],\n",
       "            [1.92352966e+02, 1.00554144e+03, 4.30114014e+02,\n",
       "             1.02065100e+03, 1.30894241e+02]],\n",
       "\n",
       "           [[           nan, 2.82702994e+00, 2.57000790e+01,\n",
       "             2.95231895e+01, 1.26429291e+01],\n",
       "            [2.59738941e+01, 3.14313164e+01, 5.38283325e+02,\n",
       "             7.78464417e+02, 1.82704269e+02],\n",
       "            [4.33120499e+01, 3.77174377e+02, 1.42645361e+04,\n",
       "             1.51195781e+04, 4.97751923e+02],\n",
       "            [4.43579865e+01, 1.06880054e+03, 4.53021973e+03,\n",
       "             5.83081934e+03, 8.58055481e+02],\n",
       "            [1.93509247e+02, 1.00615192e+03, 4.29963501e+02,\n",
       "             1.01776080e+03, 1.30258194e+02]],\n",
       "\n",
       "           [[           nan, 3.29043913e+00, 2.99797707e+01,\n",
       "             3.19897556e+01, 9.36553383e+00],\n",
       "            [2.70365314e+01, 3.27150421e+01, 5.40223145e+02,\n",
       "             7.79429932e+02, 1.77785263e+02],\n",
       "            [4.51919556e+01, 3.77650543e+02, 1.42646602e+04,\n",
       "             1.51224541e+04, 4.96794556e+02],\n",
       "            [4.54371376e+01, 1.06820532e+03, 4.52696045e+03,\n",
       "             5.83080127e+03, 8.58000305e+02],\n",
       "            [1.94596207e+02, 1.00235919e+03, 4.31925568e+02,\n",
       "             1.01882666e+03, 1.29376602e+02]]] electron / s>"
      ],
      "text/latex": "$[[[{\\rm NaN},~5.6079335,~51.491142,~84.241745,~30.221334],~\n  [44.04562,~76.861229,~1122.7759,~3226.2029,~454.86777],~\n  [25.911165,~229.07593,~9362.6543,~23606.273,~1208.775],~\n  [40.10083,~885.43927,~1710.2118,~2625.4871,~707.96606],~\n  [157.19417,~837.1344,~510.21539,~1150.1041,~183.1337]],~\n\n [[{\\rm NaN},~7.3051395,~53.120609,~83.425598,~30.498329],~\n  [46.440418,~74.485359,~1124.6348,~3232.8398,~452.48346],~\n  [24.2621,~232.48749,~9370.2432,~23596.512,~1207.9614],~\n  [39.246983,~889.26428,~1709.7922,~2624.9319,~709.22864],~\n  [157.98837,~837.04559,~509.17218,~1149.8561,~180.91991]],~\n\n [[{\\rm NaN},~8.9556961,~52.911243,~82.421761,~31.860538],~\n  [45.886646,~74.50666,~1124.42,~3220.2119,~452.20285],~\n  [26.949097,~230.85168,~9383.6201,~23591.998,~1208.7848],~\n  [40.328991,~888.47156,~1711.9926,~2626.6904,~711.94159],~\n  [160.73163,~835.27216,~509.88153,~1146.6986,~182.32607]],~\n\n \\dots,~\n\n [[{\\rm NaN},~4.9120932,~26.689028,~28.616543,~10.023705],~\n  [28.072544,~31.893505,~542.06342,~782.1109,~180.08565],~\n  [46.232319,~376.81042,~14261.941,~15128.989,~498.4819],~\n  [43.205341,~1070.3136,~4521.9155,~5827.8145,~856.85999],~\n  [192.35297,~1005.5414,~430.11401,~1020.651,~130.89424]],~\n\n [[{\\rm NaN},~2.8270299,~25.700079,~29.52319,~12.642929],~\n  [25.973894,~31.431316,~538.28333,~778.46442,~182.70427],~\n  [43.31205,~377.17438,~14264.536,~15119.578,~497.75192],~\n  [44.357986,~1068.8005,~4530.2197,~5830.8193,~858.05548],~\n  [193.50925,~1006.1519,~429.9635,~1017.7608,~130.25819]],~\n\n [[{\\rm NaN},~3.2904391,~29.979771,~31.989756,~9.3655338],~\n  [27.036531,~32.715042,~540.22314,~779.42993,~177.78526],~\n  [45.191956,~377.65054,~14264.66,~15122.454,~496.79456],~\n  [45.437138,~1068.2053,~4526.9604,~5830.8013,~858.00031],~\n  [194.59621,~1002.3592,~431.92557,~1018.8267,~129.3766]]] \\; \\mathrm{\\frac{e^{-}}{s}}$"
     },
     "metadata": {},
     "execution_count": 16
    }
   ],
   "source": [
    "tpf.flux"
   ]
  },
  {
   "cell_type": "markdown",
   "metadata": {
    "colab_type": "text",
    "id": "mXjVM2VHlL87"
   },
   "source": [
    "This object is a three-dimensional array, where each entry in the array represents one observing cadence. In our example, the flux array is composed of 4116 images, which are 5x5 pixels in size each:"
   ]
  },
  {
   "cell_type": "code",
   "execution_count": 17,
   "metadata": {
    "colab": {
     "base_uri": "https://localhost:8080/",
     "height": 34
    },
    "colab_type": "code",
    "executionInfo": {
     "elapsed": 426,
     "status": "ok",
     "timestamp": 1598459062040,
     "user": {
      "displayName": "Geert Barentsen",
      "photoUrl": "https://lh3.googleusercontent.com/a-/AOh14Gj8sjdnDeqdejfe7OoouYPIclAQV0KSTpsU469Jyeo=s64",
      "userId": "05704237875861987058"
     },
     "user_tz": 420
    },
    "id": "GqKnx3gglJPv",
    "outputId": "97856074-a038-4586-8ff2-da757fcb6626"
   },
   "outputs": [
    {
     "output_type": "execute_result",
     "data": {
      "text/plain": [
       "(4116, 5, 5)"
      ]
     },
     "metadata": {},
     "execution_count": 17
    }
   ],
   "source": [
    "tpf.flux.shape"
   ]
  },
  {
   "cell_type": "markdown",
   "metadata": {
    "colab_type": "text",
    "id": "TLR6pKTthowD"
   },
   "source": [
    "We can access the values of the first 5x5 pixel image as a NumPy array as follows:"
   ]
  },
  {
   "cell_type": "code",
   "execution_count": 18,
   "metadata": {
    "colab": {
     "base_uri": "https://localhost:8080/",
     "height": 191
    },
    "colab_type": "code",
    "executionInfo": {
     "elapsed": 17197,
     "status": "ok",
     "timestamp": 1598458627913,
     "user": {
      "displayName": "Geert Barentsen",
      "photoUrl": "https://lh3.googleusercontent.com/a-/AOh14Gj8sjdnDeqdejfe7OoouYPIclAQV0KSTpsU469Jyeo=s64",
      "userId": "05704237875861987058"
     },
     "user_tz": 420
    },
    "id": "YorUZ0eYWvsp",
    "outputId": "417c1d84-97d7-439a-9a75-92ba917c9cd6"
   },
   "outputs": [
    {
     "output_type": "execute_result",
     "data": {
      "text/plain": [
       "array([[          nan, 5.6079335e+00, 5.1491142e+01, 8.4241745e+01,\n",
       "        3.0221334e+01],\n",
       "       [4.4045620e+01, 7.6861229e+01, 1.1227759e+03, 3.2262029e+03,\n",
       "        4.5486777e+02],\n",
       "       [2.5911165e+01, 2.2907593e+02, 9.3626543e+03, 2.3606273e+04,\n",
       "        1.2087750e+03],\n",
       "       [4.0100830e+01, 8.8543927e+02, 1.7102118e+03, 2.6254871e+03,\n",
       "        7.0796606e+02],\n",
       "       [1.5719417e+02, 8.3713440e+02, 5.1021539e+02, 1.1501041e+03,\n",
       "        1.8313370e+02]], dtype=float32)"
      ]
     },
     "metadata": {},
     "execution_count": 18
    }
   ],
   "source": [
    "tpf.flux[0].value"
   ]
  },
  {
   "cell_type": "markdown",
   "metadata": {
    "colab_type": "text",
    "id": "Fj8cJvbars9N"
   },
   "source": [
    "At each cadence the TPF has four different flux-related data properties:\n",
    "\n",
    "- `tpf.flux`: the stellar brightness after the background is removed.\n",
    "- `tpf.flux_err`: the statistical uncertainty on the stellar flux after background removal.\n",
    "- `tpf.flux_bkg`: the astronomical background brightness of the image.\n",
    "- `tpf.flux_bkg_err`: the statistical uncertainty on the background flux.\n",
    "\n",
    "All four of these data arrays are in units of electrons per second.\n",
    "\n",
    "**Note**: for *Kepler*, the flux background isn't a measurement made using the local TPF data. Instead, at each cadence, the *Kepler* pipeline fits a model to thousands of empty pixels across each CCD in order to estimate a continuum background across the the CCD. For more details read the [*Kepler* Instrument Handbook](https://archive.stsci.edu/files/live/sites/mast/files/home/missions-and-data/kepler/_documents/KSCI-19033-002-instrument-hb.pdf), Section 2.6.2.4. In the case of *TESS*, local background pixels contained within a TPF are used instead."
   ]
  },
  {
   "cell_type": "markdown",
   "metadata": {
    "colab_type": "text",
    "id": "WKB9TBNGTO86"
   },
   "source": [
    "**Note**: The `tpf.flux` values seen above have been quality-masked. This means that cadences of observations that violated the `quality_bitmask` parameter are removed, and so `tpf.flux` represents the data that you probably want to use to do your science. The `quality_bitmask` can also be accessed as a property of a [`KeplerTargetPixelFile`](https://docs.lightkurve.org/reference/api/lightkurve.KeplerTargetPixelFile.html?highlight=keplertargetpixelfile). For specific details on the `quality` flags, read the [*Kepler* Archive Manual](https://archive.stsci.edu/files/live/sites/mast/files/home/missions-and-data/k2/_documents/MAST_Kepler_Archive_Manual_2020.pdf), Section 2.3.1.1.\n",
    "\n",
    "If you want to access flux and background flux measurements that *have not* been quality masked, you can pass a custom `quality_bitmask` parameter to the `download()` or `read()` method as follows:"
   ]
  },
  {
   "cell_type": "code",
   "execution_count": 19,
   "metadata": {
    "colab": {},
    "colab_type": "code",
    "id": "XjsKGtPxiOse"
   },
   "outputs": [],
   "source": [
    "search = lk.search_targetpixelfile(\"Kepler-8\", author=\"Kepler\", cadence=\"long\", quarter=4)\n",
    "tpf = search.download(quality_bitmask=0)"
   ]
  },
  {
   "cell_type": "markdown",
   "metadata": {
    "colab_type": "text",
    "id": "pI4q-I8PjC99"
   },
   "source": [
    "You can see that the flux array of this object now has more cadences (4397) than the original one above (4116):"
   ]
  },
  {
   "cell_type": "code",
   "execution_count": 20,
   "metadata": {
    "colab": {
     "base_uri": "https://localhost:8080/",
     "height": 34
    },
    "colab_type": "code",
    "executionInfo": {
     "elapsed": 439,
     "status": "ok",
     "timestamp": 1598459193421,
     "user": {
      "displayName": "Geert Barentsen",
      "photoUrl": "https://lh3.googleusercontent.com/a-/AOh14Gj8sjdnDeqdejfe7OoouYPIclAQV0KSTpsU469Jyeo=s64",
      "userId": "05704237875861987058"
     },
     "user_tz": 420
    },
    "id": "75mYnCyXjAim",
    "outputId": "54aa42d4-78a5-4641-9f8e-87409aa9e7b5"
   },
   "outputs": [
    {
     "output_type": "execute_result",
     "data": {
      "text/plain": [
       "(4397, 5, 5)"
      ]
     },
     "metadata": {},
     "execution_count": 20
    }
   ],
   "source": [
    "tpf.flux.shape"
   ]
  },
  {
   "cell_type": "markdown",
   "metadata": {
    "colab_type": "text",
    "id": "gnmgbYhdifRc"
   },
   "source": [
    "Alternatively, we can access the unmasked contents of the original TPF FITS file at any time using the `hdu` property:"
   ]
  },
  {
   "cell_type": "code",
   "execution_count": 21,
   "metadata": {
    "colab": {
     "base_uri": "https://localhost:8080/",
     "height": 34
    },
    "colab_type": "code",
    "executionInfo": {
     "elapsed": 358,
     "status": "ok",
     "timestamp": 1598459224249,
     "user": {
      "displayName": "Geert Barentsen",
      "photoUrl": "https://lh3.googleusercontent.com/a-/AOh14Gj8sjdnDeqdejfe7OoouYPIclAQV0KSTpsU469Jyeo=s64",
      "userId": "05704237875861987058"
     },
     "user_tz": 420
    },
    "id": "DMgWz2g7X8LH",
    "outputId": "e5d8396f-e436-4860-9733-6b43b07b37ae"
   },
   "outputs": [
    {
     "output_type": "execute_result",
     "data": {
      "text/plain": [
       "(4397, 5, 5)"
      ]
     },
     "metadata": {},
     "execution_count": 21
    }
   ],
   "source": [
    "tpf.hdu[1].data['FLUX'].shape"
   ]
  },
  {
   "cell_type": "markdown",
   "metadata": {
    "colab_type": "text",
    "id": "lhbv9ZKRPmMY"
   },
   "source": [
    "## About this Notebook"
   ]
  },
  {
   "cell_type": "markdown",
   "metadata": {
    "colab_type": "text",
    "id": "nU-5JtvpPmMZ"
   },
   "source": [
    "**Authors:** Oliver Hall (oliver.hall@esa.int), Geert Barentsen\n",
    "\n",
    "**Updated On**: 2020-09-15"
   ]
  },
  {
   "cell_type": "markdown",
   "metadata": {
    "colab_type": "text",
    "id": "ZANsIso_B_si"
   },
   "source": [
    "## Citing Lightkurve and Astropy\n",
    "\n",
    "If you use `lightkurve` or `astropy` for published research, please cite the authors. Click the buttons below to copy BibTeX entries to your clipboard. \n",
    "\n"
   ]
  },
  {
   "cell_type": "code",
   "execution_count": 22,
   "metadata": {
    "colab": {
     "base_uri": "https://localhost:8080/",
     "height": 85
    },
    "colab_type": "code",
    "executionInfo": {
     "elapsed": 20255,
     "status": "ok",
     "timestamp": 1598458630991,
     "user": {
      "displayName": "Geert Barentsen",
      "photoUrl": "https://lh3.googleusercontent.com/a-/AOh14Gj8sjdnDeqdejfe7OoouYPIclAQV0KSTpsU469Jyeo=s64",
      "userId": "05704237875861987058"
     },
     "user_tz": 420
    },
    "id": "7vUtrWVjnlY7",
    "outputId": "0fac20b7-14f2-4413-862e-d472fc0b3726"
   },
   "outputs": [
    {
     "output_type": "execute_result",
     "data": {
      "text/plain": [
       "<IPython.core.display.HTML object>"
      ],
      "text/html": "<head>\n<link rel=\"stylesheet\" href=\"https://stackpath.bootstrapcdn.com/font-awesome/4.7.0/css/font-awesome.min.css\" integrity=\"sha384-wvfXpqpZZVQGK6TAh5PVlGOfQNHSoD2xbE+QkPxCAFlNEevoEH3Sl0sibVcOQVnN\" crossorigin=\"anonymous\">\n\n<style>\n    button {\n        border: 1px solid;\n        padding: 0.2em;\n        text-align: center;\n        text-decoration: none;\n        display: inline-block;\n        font-size: 0.8em;\n        margin: 0.2em;\n        cursor: pointer;\n    }\n\n    .citation-button-1 {background-color: #4CAF50;} /* Green */\n    .citation-button-2 {background-color: #008CBA;} /* Blue */\n</style>\n\n<script type=\"text/javascript\">\n    function copyBibtex(package) {\n        var copyText = document.getElementById(package + \"Text\");\n        copyText.select();\n        document.execCommand(\"copy\");\n        alert(\"BibTex has been copied to your clipboard\")\n    }\n</script>\n</head>\n\n<body>\n    <textarea id=\"lightkurveText\" style=\"position: absolute; left: -9999px; z-index: -9999;\">\n@MISC{2018ascl.soft12013L,\n    author = {{Lightkurve Collaboration} and {Cardoso}, J.~V.~d.~M. and\n                {Hedges}, C. and {Gully-Santiago}, M. and {Saunders}, N. and\n                {Cody}, A.~M. and {Barclay}, T. and {Hall}, O. and\n                {Sagear}, S. and {Turtelboom}, E. and {Zhang}, J. and\n                {Tzanidakis}, A. and {Mighell}, K. and {Coughlin}, J. and\n                {Bell}, K. and {Berta-Thompson}, Z. and {Williams}, P. and\n                {Dotson}, J. and {Barentsen}, G.},\n    title = \"{Lightkurve: Kepler and TESS time series analysis in Python}\",\n    keywords = {Software, NASA},\nhowpublished = {Astrophysics Source Code Library},\n        year = 2018,\n    month = dec,\narchivePrefix = \"ascl\",\n    eprint = {1812.013},\n    adsurl = {http://adsabs.harvard.edu/abs/2018ascl.soft12013L},\n}\n    </textarea>\n    <textarea id=\"astropyText\" style=\"position: absolute; left: -9999px; z-index: -9999;\">\n@ARTICLE{2018AJ....156..123T,\n   author = {{The Astropy Collaboration} and {Price-Whelan}, A.~M. and {Sip{\\H o}cz}, B.~M. and \n\t{G{\\\"u}nther}, H.~M. and {Lim}, P.~L. and {Crawford}, S.~M. and \n\t{Conseil}, S. and {Shupe}, D.~L. and {Craig}, M.~W. and {Dencheva}, N. and \n\t{Ginsburg}, A. and {VanderPlas}, J.~T. and {Bradley}, L.~D. and \n\t{P{\\'e}rez-Su{\\'a}rez}, D. and {de Val-Borro}, M. and {Paper Contributors}, (. and \n\t{Aldcroft}, T.~L. and {Cruz}, K.~L. and {Robitaille}, T.~P. and \n\t{Tollerud}, E.~J. and {Coordination Committee}, (. and {Ardelean}, C. and \n\t{Babej}, T. and {Bach}, Y.~P. and {Bachetti}, M. and {Bakanov}, A.~V. and \n\t{Bamford}, S.~P. and {Barentsen}, G. and {Barmby}, P. and {Baumbach}, A. and \n\t{Berry}, K.~L. and {Biscani}, F. and {Boquien}, M. and {Bostroem}, K.~A. and \n\t{Bouma}, L.~G. and {Brammer}, G.~B. and {Bray}, E.~M. and {Breytenbach}, H. and \n\t{Buddelmeijer}, H. and {Burke}, D.~J. and {Calderone}, G. and \n\t{Cano Rodr{\\'{\\i}}guez}, J.~L. and {Cara}, M. and {Cardoso}, J.~V.~M. and \n\t{Cheedella}, S. and {Copin}, Y. and {Corrales}, L. and {Crichton}, D. and \n\t{D{\\rsquo}Avella}, D. and {Deil}, C. and {Depagne}, {\\'E}. and \n\t{Dietrich}, J.~P. and {Donath}, A. and {Droettboom}, M. and \n\t{Earl}, N. and {Erben}, T. and {Fabbro}, S. and {Ferreira}, L.~A. and \n\t{Finethy}, T. and {Fox}, R.~T. and {Garrison}, L.~H. and {Gibbons}, S.~L.~J. and \n\t{Goldstein}, D.~A. and {Gommers}, R. and {Greco}, J.~P. and \n\t{Greenfield}, P. and {Groener}, A.~M. and {Grollier}, F. and \n\t{Hagen}, A. and {Hirst}, P. and {Homeier}, D. and {Horton}, A.~J. and \n\t{Hosseinzadeh}, G. and {Hu}, L. and {Hunkeler}, J.~S. and {Ivezi{\\'c}}, {\\v Z}. and \n\t{Jain}, A. and {Jenness}, T. and {Kanarek}, G. and {Kendrew}, S. and \n\t{Kern}, N.~S. and {Kerzendorf}, W.~E. and {Khvalko}, A. and \n\t{King}, J. and {Kirkby}, D. and {Kulkarni}, A.~M. and {Kumar}, A. and \n\t{Lee}, A. and {Lenz}, D. and {Littlefair}, S.~P. and {Ma}, Z. and \n\t{Macleod}, D.~M. and {Mastropietro}, M. and {McCully}, C. and \n\t{Montagnac}, S. and {Morris}, B.~M. and {Mueller}, M. and {Mumford}, S.~J. and \n\t{Muna}, D. and {Murphy}, N.~A. and {Nelson}, S. and {Nguyen}, G.~H. and \n\t{Ninan}, J.~P. and {N{\\\"o}the}, M. and {Ogaz}, S. and {Oh}, S. and \n\t{Parejko}, J.~K. and {Parley}, N. and {Pascual}, S. and {Patil}, R. and \n\t{Patil}, A.~A. and {Plunkett}, A.~L. and {Prochaska}, J.~X. and \n\t{Rastogi}, T. and {Reddy Janga}, V. and {Sabater}, J. and {Sakurikar}, P. and \n\t{Seifert}, M. and {Sherbert}, L.~E. and {Sherwood-Taylor}, H. and \n\t{Shih}, A.~Y. and {Sick}, J. and {Silbiger}, M.~T. and {Singanamalla}, S. and \n\t{Singer}, L.~P. and {Sladen}, P.~H. and {Sooley}, K.~A. and \n\t{Sornarajah}, S. and {Streicher}, O. and {Teuben}, P. and {Thomas}, S.~W. and \n\t{Tremblay}, G.~R. and {Turner}, J.~E.~H. and {Terr{\\'o}n}, V. and \n\t{van Kerkwijk}, M.~H. and {de la Vega}, A. and {Watkins}, L.~L. and \n\t{Weaver}, B.~A. and {Whitmore}, J.~B. and {Woillez}, J. and \n\t{Zabalza}, V. and {Contributors}, (.},\n    title = \"{The Astropy Project: Building an Open-science Project and Status of the v2.0 Core Package}\",\n  journal = {\\aj},\narchivePrefix = \"arXiv\",\n   eprint = {1801.02634},\n primaryClass = \"astro-ph.IM\",\n keywords = {methods: data analysis, methods: miscellaneous, methods: statistical, reference systems },\n     year = 2018,\n    month = sep,\n   volume = 156,\n      eid = {123},\n    pages = {123},\n      doi = {10.3847/1538-3881/aabc4f},\n   adsurl = {https://ui.adsabs.harvard.edu/abs/2018AJ....156..123T},\n  adsnote = {Provided by the SAO/NASA Astrophysics Data System}\n}\n\n\n    </textarea>\n    <textarea id=\"astroqueryText\" style=\"position: absolute; left: -9999px; z-index: -9999;\">\n@ARTICLE{2019AJ....157...98G,\n   author = {{Ginsburg}, A. and {Sip{\\H o}cz}, B.~M. and {Brasseur}, C.~E. and\n\t{Cowperthwaite}, P.~S. and {Craig}, M.~W. and {Deil}, C. and\n\t{Guillochon}, J. and {Guzman}, G. and {Liedtke}, S. and {Lian Lim}, P. and\n\t{Lockhart}, K.~E. and {Mommert}, M. and {Morris}, B.~M. and\n\t{Norman}, H. and {Parikh}, M. and {Persson}, M.~V. and {Robitaille}, T.~P. and\n\t{Segovia}, J.-C. and {Singer}, L.~P. and {Tollerud}, E.~J. and\n\t{de Val-Borro}, M. and {Valtchanov}, I. and {Woillez}, J. and\n\t{The Astroquery collaboration} and {a subset of the astropy collaboration}\n\t},\n    title = \"{astroquery: An Astronomical Web-querying Package in Python}\",\n  journal = {\\aj},\narchivePrefix = \"arXiv\",\n   eprint = {1901.04520},\n primaryClass = \"astro-ph.IM\",\n keywords = {astronomical databases: miscellaneous, virtual observatory tools},\n     year = 2019,\n    month = mar,\n   volume = 157,\n      eid = {98},\n    pages = {98},\n      doi = {10.3847/1538-3881/aafc33},\n   adsurl = {http://adsabs.harvard.edu/abs/2019AJ....157...98G},\n  adsnote = {Provided by the SAO/NASA Astrophysics Data System}\n}\n\n    </textarea>\n    <textarea id=\"tesscutText\" style=\"position: absolute; left: -9999px; z-index: -9999;\">\n@MISC{2019ascl.soft05007B,\n        author = {{Brasseur}, C.~E. and {Phillip}, Carlita and {Fleming}, Scott W. and\n          {Mullally}, S.~E. and {White}, Richard L.},\n         title = \"{Astrocut: Tools for creating cutouts of TESS images}\",\n      keywords = {Software},\n          year = 2019,\n         month = may,\n           eid = {ascl:1905.007},\n         pages = {ascl:1905.007},\n archivePrefix = {ascl},\n        eprint = {1905.007},\n        adsurl = {https://ui.adsabs.harvard.edu/abs/2019ascl.soft05007B},\n       adsnote = {Provided by the SAO/NASA Astrophysics Data System}\n }\n    </textarea>\n\n    <p>\n        When using Lightkurve, we kindly request that you cite the following packages:\n        <ul>\n            <li>\n                <a href=\"https://docs.lightkurve.org\">lightkurve</a>\n                <button onclick=\"copyBibtex('lightkurve')\"><i class=\"fas fa-clipboard\"></i> Copy BibTeX</button>\n            </li>\n            <li>\n                <a href=\"https://astropy.org\">astropy</a>\n                <button onclick=\"copyBibtex('astropy')\"><i class=\"fas fa-clipboard\"></i> Copy BibTeX</button>\n            </li>\n            <li>\n                <a href=\"https://astroquery.readthedocs.io\">astroquery</a>\n                <button onclick=\"copyBibtex('astroquery')\"><i class=\"fas fa-clipboard\"></i> Copy BibTeX</button>\n                —  if you are using <i>search_lightcurve()</i> or <i>search_targetpixelfile()</i>.\n            </li>\n            <li>\n                <a href=\"https://mast.stsci.edu/tesscut/\">tesscut</a>\n                <button onclick=\"copyBibtex('tesscut')\"><i class=\"fas fa-clipboard\"></i> Copy BibTeX</button>\n                — if you are using <i>search_tesscut()</i>.\n            </li>\n        </ul>\n    </p>\n</body>\n"
     },
     "metadata": {},
     "execution_count": 22
    }
   ],
   "source": [
    "lk.show_citation_instructions()"
   ]
  },
  {
   "cell_type": "markdown",
   "metadata": {
    "colab_type": "text",
    "id": "zlFMVwBqCPXc"
   },
   "source": [
    "<img style=\"float: right;\" src=\"https://raw.githubusercontent.com/spacetelescope/notebooks/master/assets/stsci_pri_combo_mark_horizonal_white_bkgd.png\" alt=\"Space Telescope Logo\" width=\"200px\"/>\n"
   ]
  }
 ],
 "metadata": {
  "colab": {
   "collapsed_sections": [],
   "name": "Using_Target_Pixel_File_Products_with_Lightkurve.ipynb",
   "provenance": []
  },
  "kernelspec": {
   "display_name": "Python 3",
   "language": "python",
   "name": "python3"
  },
  "language_info": {
   "codemirror_mode": {
    "name": "ipython",
    "version": 3
   },
   "file_extension": ".py",
   "mimetype": "text/x-python",
   "name": "python",
   "nbconvert_exporter": "python",
   "pygments_lexer": "ipython3",
   "version": "3.8.5"
  }
 },
 "nbformat": 4,
 "nbformat_minor": 4
}