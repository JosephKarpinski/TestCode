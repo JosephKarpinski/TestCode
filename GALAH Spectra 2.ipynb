{
 "cells": [
  {
   "cell_type": "markdown",
   "metadata": {},
   "source": [
    "https://docs.datacentral.org.au/galah/dr3/overview/"
   ]
  },
  {
   "cell_type": "code",
   "execution_count": null,
   "metadata": {},
   "outputs": [],
   "source": [
    "import webbrowser\n",
    "\n",
    "webbrowser.open('https://docs.datacentral.org.au/galah/dr3/overview/')\n",
    "\n",
    "webbrowser.open('https://cloud.datacentral.org.au/teamdata/GALAH/public/GALAH_DR3/old_version_1/')\n",
    "\n",
    "webbrowser.open('https://cloud.datacentral.org.au/teamdata/GALAH/public/GALAH_DR3/')\n",
    "\n",
    "#webbrowser.open('https://docs.datacentral.org.au/help-center/virtual-observatory-examples/ssa-galah-dr3-interactive-spectra-explorer-enhanced-data-central-api/')"
   ]
  },
  {
   "cell_type": "code",
   "execution_count": null,
   "metadata": {},
   "outputs": [],
   "source": [
    "from IPython.display import display, HTML\n",
    "display(HTML(data=\"\"\"\n",
    "<style>\n",
    "    div#notebook-container    { width: 95%; }\n",
    "    div#menubar-container     { width: 65%; }\n",
    "    div#maintoolbar-container { width: 99%; }\n",
    "</style>\n",
    "\"\"\"))"
   ]
  },
  {
   "cell_type": "code",
   "execution_count": 1,
   "metadata": {},
   "outputs": [
    {
     "name": "stdout",
     "output_type": "stream",
     "text": [
      "/Users/josephkarpinski/opt/anaconda3/envs/envGalah/bin/python\n"
     ]
    }
   ],
   "source": [
    "import sys\n",
    "print(sys.executable)\n",
    "\n",
    "import warnings\n",
    "\n",
    "if not sys.warnoptions:\n",
    "    warnings.simplefilter(\"ignore\")\n",
    "\n",
    "import matplotlib.pyplot as plt\n",
    "from matplotlib import gridspec\n",
    "\n",
    "import numpy as np\n",
    "import pandas as pd\n",
    "\n",
    "from specutils import Spectrum1D\n",
    "from pyvo.dal.ssa  import search, SSAService\n",
    "\n",
    "import requests\n",
    "from io import BytesIO\n",
    "\n",
    "import matplotlib.ticker as plticker\n",
    "\n",
    "from astropy.stats import sigma_clip\n",
    "\n",
    "\n",
    "import starcolorindexSpT"
   ]
  },
  {
   "cell_type": "code",
   "execution_count": 2,
   "metadata": {},
   "outputs": [],
   "source": [
    "pd.set_option('display.max_rows', 2000)"
   ]
  },
  {
   "cell_type": "code",
   "execution_count": 3,
   "metadata": {},
   "outputs": [],
   "source": [
    "Ipython_default = plt.rcParams.copy()\n",
    "\n",
    "#plt.style.use('dark_background')\n",
    "\n",
    "# reset rcParams\n",
    "#plt.rcParams.update(Ipython_default)"
   ]
  },
  {
   "cell_type": "code",
   "execution_count": 4,
   "metadata": {},
   "outputs": [],
   "source": [
    "#set the figure size to be wide in the horizontal direction\n",
    "#to accommodate the image cutouts alongside the spectra \n",
    "#fsize=[20,13]\n",
    "fsize=[20,8]\n",
    "#mpl.rcParams['axes.linewidth'] = 0.7\n",
    "FSIZE=18\n",
    "LWIDTH=0.5\n",
    "LABELSIZE=10"
   ]
  },
  {
   "cell_type": "code",
   "execution_count": 5,
   "metadata": {},
   "outputs": [],
   "source": [
    "def show_spectrum(name,axes,title): \n",
    "    #query the SSA service\n",
    "    url = \"https://datacentral.org.au/vo/ssa/query\"\n",
    "    service = SSAService(url)\n",
    "    custom = {}\n",
    "    custom['TARGETNAME'] = name\n",
    "    custom['COLLECTION'] = 'galah_dr3'\n",
    "    results = service.search(**custom)\n",
    "    df = results.votable.get_first_table().to_table(use_names_over_ids=True).to_pandas()\n",
    "    filters = ['B','V','R','I']\n",
    "    colours = [\"#085dea\",\"#1e8c09\",\"#cf0000\",\"#640418\"]\n",
    "\n",
    "    #go through each filter and plot its spectrum (if available)\n",
    "    for idx in range(0,4):\n",
    "        filt = filters[idx]\n",
    "        ax = axes[idx]\n",
    "        ax.clear()\n",
    "        #show the title in the first position only\n",
    "        if(idx == 0):\n",
    "            ax.set_title(title)\n",
    "        #select only the spectrum of the filter of interest\n",
    "        subset = df[(df['band_name'] == filt)].reset_index()\n",
    "        #give preference to using the continuum normalised spectra \n",
    "        if(subset[subset['dataproduct_subtype'].isin(['normalised'])].shape[0] > 0):\n",
    "            subset = subset[(subset['dataproduct_subtype'] == \"normalised\")].reset_index()\n",
    "        #only proceed if we have the filter of interest available in the results \n",
    "        if(subset.shape[0] > 0):\n",
    "            #add RESPONSEFORMAT=fits here to ensure we get fits format back\n",
    "            url= subset.loc[0,'access_url'] + \"&RESPONSEFORMAT=fits\"\n",
    "            #load the spectrum\n",
    "            spec = Spectrum1D.read(BytesIO(requests.get(url).content),format='wcs1d-fits')\n",
    "            #print(spec)\n",
    "            #df_spec = pd.DataFrame(spec)\n",
    "            #df_spec.to_csv(\"df_spec_\" + str(idx))\n",
    "            exptime = subset.loc[0,'t_exptime']\n",
    "            ax.tick_params(axis='both', which='major')\n",
    "            ax.tick_params(axis='both', which='minor')\n",
    "            loc = plticker.MultipleLocator(base=20.0)\n",
    "            ax.xaxis.set_major_locator(loc)\n",
    "            #plot label at last position (caveat: no check if spectra are missing)\n",
    "            if(idx == 3): \n",
    "                ax.set_xlabel(\"Wavelength ($\\mathrm{\\AA}$)\",labelpad=10)\n",
    "            #plot the spectrum \n",
    "            ax.plot(spec.wavelength,spec.flux,linewidth=LWIDTH,color=colours[idx])\n",
    "            #adjust the y-scale to best fit the spectrum with some sigma clipping\n",
    "            nspec = len(spec.spectral_axis)\n",
    "            clipped = sigma_clip(spec[int(0+0.01*nspec):int(nspec-0.01*nspec)].flux,masked=False,sigma=15)\n",
    "            ymin = min(clipped).value\n",
    "            ymax = max(clipped).value \n",
    "            xmin = spec.wavelength[0].value\n",
    "            xmax = spec.wavelength[nspec-1].value\n",
    "            #add a 1% buffer either side of the x-range\n",
    "            dx=0.01*(xmax-xmin)\n",
    "            ax.set_xlim(xmin-dx,xmax+dx)\n",
    "            #add a 1% buffer either side of the y-range\n",
    "            dy=0.03*(ymax-ymin)\n",
    "            ax.set_ylim(ymin-dy,ymax+dy)\n",
    "        #else:\n",
    "            #print missing data..."
   ]
  },
  {
   "cell_type": "code",
   "execution_count": null,
   "metadata": {},
   "outputs": [],
   "source": []
  },
  {
   "cell_type": "code",
   "execution_count": 6,
   "metadata": {},
   "outputs": [],
   "source": [
    "# GALAH DR3 Version 1 \n",
    "# https://cloud.datacentral.org.au/teamdata/GALAH/public/GALAH_DR3/old_version_1/\n",
    "\n",
    "df_GALAH = pd.read_csv('GALAH_DR3_main_allspec_v1.csv')"
   ]
  },
  {
   "cell_type": "code",
   "execution_count": 28,
   "metadata": {},
   "outputs": [
    {
     "data": {
      "text/plain": [
       "['star_id',\n",
       " 'sobject_id',\n",
       " 'source_id',\n",
       " 'survey_name',\n",
       " 'field_id',\n",
       " 'flag_repeat',\n",
       " 'wg4_field',\n",
       " 'wg4_pipeline',\n",
       " 'flag_sp',\n",
       " 'teff',\n",
       " 'e_teff',\n",
       " 'irfm_teff',\n",
       " 'irfm_ebv',\n",
       " 'irfm_ebv_ref',\n",
       " 'logg',\n",
       " 'e_logg',\n",
       " 'fe_h',\n",
       " 'e_fe_h',\n",
       " 'flag_fe_h',\n",
       " 'fe_h_atmo',\n",
       " 'vmic',\n",
       " 'vbroad',\n",
       " 'e_vbroad',\n",
       " 'chi2_sp',\n",
       " 'alpha_fe',\n",
       " 'e_alpha_fe',\n",
       " 'nr_alpha_fe',\n",
       " 'flag_alpha_fe',\n",
       " 'flux_A_Fe',\n",
       " 'chi_A_Fe',\n",
       " 'Li_fe',\n",
       " 'e_Li_fe',\n",
       " 'nr_Li_fe',\n",
       " 'flag_Li_fe',\n",
       " 'C_fe',\n",
       " 'e_C_fe',\n",
       " 'nr_C_fe',\n",
       " 'flag_C_fe',\n",
       " 'O_fe',\n",
       " 'e_O_fe',\n",
       " 'nr_O_fe',\n",
       " 'flag_O_fe',\n",
       " 'Na_fe',\n",
       " 'e_Na_fe',\n",
       " 'nr_Na_fe',\n",
       " 'flag_Na_fe',\n",
       " 'Mg_fe',\n",
       " 'e_Mg_fe',\n",
       " 'nr_Mg_fe',\n",
       " 'flag_Mg_fe',\n",
       " 'Al_fe',\n",
       " 'e_Al_fe',\n",
       " 'nr_Al_fe',\n",
       " 'flag_Al_fe',\n",
       " 'Si_fe',\n",
       " 'e_Si_fe',\n",
       " 'nr_Si_fe',\n",
       " 'flag_Si_fe',\n",
       " 'K_fe',\n",
       " 'e_K_fe',\n",
       " 'nr_K_fe',\n",
       " 'flag_K_fe',\n",
       " 'Ca_fe',\n",
       " 'e_Ca_fe',\n",
       " 'nr_Ca_fe',\n",
       " 'flag_Ca_fe',\n",
       " 'Sc_fe',\n",
       " 'e_Sc_fe',\n",
       " 'nr_Sc_fe',\n",
       " 'flag_Sc_fe',\n",
       " 'Ti_fe',\n",
       " 'e_Ti_fe',\n",
       " 'nr_Ti_fe',\n",
       " 'flag_Ti_fe',\n",
       " 'Ti2_fe',\n",
       " 'e_Ti2_fe',\n",
       " 'nr_Ti2_fe',\n",
       " 'flag_Ti2_fe',\n",
       " 'V_fe',\n",
       " 'e_V_fe',\n",
       " 'nr_V_fe',\n",
       " 'flag_V_fe',\n",
       " 'Cr_fe',\n",
       " 'e_Cr_fe',\n",
       " 'nr_Cr_fe',\n",
       " 'flag_Cr_fe',\n",
       " 'Mn_fe',\n",
       " 'e_Mn_fe',\n",
       " 'nr_Mn_fe',\n",
       " 'flag_Mn_fe',\n",
       " 'Co_fe',\n",
       " 'e_Co_fe',\n",
       " 'nr_Co_fe',\n",
       " 'flag_Co_fe',\n",
       " 'Ni_fe',\n",
       " 'e_Ni_fe',\n",
       " 'nr_Ni_fe',\n",
       " 'flag_Ni_fe',\n",
       " 'Cu_fe',\n",
       " 'e_Cu_fe',\n",
       " 'nr_Cu_fe',\n",
       " 'flag_Cu_fe',\n",
       " 'Zn_fe',\n",
       " 'e_Zn_fe',\n",
       " 'nr_Zn_fe',\n",
       " 'flag_Zn_fe',\n",
       " 'Rb_fe',\n",
       " 'e_Rb_fe',\n",
       " 'nr_Rb_fe',\n",
       " 'flag_Rb_fe',\n",
       " 'Sr_fe',\n",
       " 'e_Sr_fe',\n",
       " 'nr_Sr_fe',\n",
       " 'flag_Sr_fe',\n",
       " 'Y_fe',\n",
       " 'e_Y_fe',\n",
       " 'nr_Y_fe',\n",
       " 'flag_Y_fe',\n",
       " 'Zr_fe',\n",
       " 'e_Zr_fe',\n",
       " 'nr_Zr_fe',\n",
       " 'flag_Zr_fe',\n",
       " 'Mo_fe',\n",
       " 'e_Mo_fe',\n",
       " 'nr_Mo_fe',\n",
       " 'flag_Mo_fe',\n",
       " 'Ru_fe',\n",
       " 'e_Ru_fe',\n",
       " 'nr_Ru_fe',\n",
       " 'flag_Ru_fe',\n",
       " 'Ba_fe',\n",
       " 'e_Ba_fe',\n",
       " 'nr_Ba_fe',\n",
       " 'flag_Ba_fe',\n",
       " 'La_fe',\n",
       " 'e_La_fe',\n",
       " 'nr_La_fe',\n",
       " 'flag_La_fe',\n",
       " 'Ce_fe',\n",
       " 'e_Ce_fe',\n",
       " 'nr_Ce_fe',\n",
       " 'flag_Ce_fe',\n",
       " 'Nd_fe',\n",
       " 'e_Nd_fe',\n",
       " 'nr_Nd_fe',\n",
       " 'flag_Nd_fe',\n",
       " 'Sm_fe',\n",
       " 'e_Sm_fe',\n",
       " 'nr_Sm_fe',\n",
       " 'flag_Sm_fe',\n",
       " 'Eu_fe',\n",
       " 'e_Eu_fe',\n",
       " 'nr_Eu_fe',\n",
       " 'flag_Eu_fe',\n",
       " 'ra',\n",
       " 'ra_error',\n",
       " 'dec',\n",
       " 'dec_error',\n",
       " 'l',\n",
       " 'b',\n",
       " 'r_est',\n",
       " 'r_lo',\n",
       " 'r_hi',\n",
       " 'r_len',\n",
       " 'pmra',\n",
       " 'pmra_error',\n",
       " 'pmdec',\n",
       " 'pmdec_error',\n",
       " 'ra_dec_corr',\n",
       " 'ra_parallax_corr',\n",
       " 'ra_pmra_corr',\n",
       " 'ra_pmdec_corr',\n",
       " 'dec_parallax_corr',\n",
       " 'dec_pmra_corr',\n",
       " 'dec_pmdec_corr',\n",
       " 'parallax_pmra_corr',\n",
       " 'parallax_pmdec_corr',\n",
       " 'pmra_pmdec_corr',\n",
       " 'rv_galah',\n",
       " 'e_rv_galah',\n",
       " 'rv_gaia',\n",
       " 'e_rv_gaia',\n",
       " 'red_flag',\n",
       " 'snr_c1_iraf',\n",
       " 'snr_c2_iraf',\n",
       " 'snr_c3_iraf',\n",
       " 'snr_c4_iraf',\n",
       " 'flag_guess',\n",
       " 'v_jk',\n",
       " 'j_m',\n",
       " 'j_msigcom',\n",
       " 'h_m',\n",
       " 'h_msigcom',\n",
       " 'ks_m',\n",
       " 'ks_msigcom',\n",
       " 'ph_qual_tmass',\n",
       " 'w2mpro',\n",
       " 'w2mpro_error',\n",
       " 'ph_qual_wise',\n",
       " 'a_ks',\n",
       " 'e_a_ks',\n",
       " 'bc_ks',\n",
       " 'parallax',\n",
       " 'parallax_error',\n",
       " 'ruwe',\n",
       " 'phot_g_mean_mag',\n",
       " 'bp_rp',\n",
       " 'SpT2',\n",
       " 'Parsec',\n",
       " 'kpc',\n",
       " 'LY',\n",
       " 'M',\n",
       " 'L_sun',\n",
       " 'T_K',\n",
       " 'R_sun',\n",
       " 'Star_Type']"
      ]
     },
     "execution_count": 28,
     "metadata": {},
     "output_type": "execute_result"
    }
   ],
   "source": [
    "df_GALAH.columns.tolist()"
   ]
  },
  {
   "cell_type": "code",
   "execution_count": 7,
   "metadata": {},
   "outputs": [
    {
     "name": "stdout",
     "output_type": "stream",
     "text": [
      "\n",
      "Done!\n"
     ]
    }
   ],
   "source": [
    "\n",
    "df_GALAH['SpT2'] = df_GALAH.apply(lambda row: starcolorindexSpT.subclass[round(row.bp_rp, 2)], axis=1)\n",
    "df_GALAH['Parsec'] =  abs(((1 / df_GALAH['parallax']) * 1000))\n",
    "df_GALAH['kpc'] =  abs(((1 / df_GALAH['parallax'])))\n",
    "df_GALAH['LY'] = abs(3261.56/df_GALAH['parallax'])\n",
    "\n",
    "# calculate absolute magnitude and add a new column (M)\n",
    "df_GALAH['M'] = df_GALAH['phot_g_mean_mag'] + 5*np.log10(df_GALAH['parallax']) - 10\n",
    "#df_GALAH['M'].describe()\n",
    "\n",
    "# add a new column ('L_sun') for luminosity in terms of multiples of solar luminosity\n",
    "df_GALAH['L_sun'] = np.power(10,[(4.77-m)/2.5 for m in df_GALAH['M']])\n",
    "\n",
    "# add a new column ('T_K') for effective temperature in Kelvin\n",
    "df_GALAH['T_K'] = [5601/np.power(c+0.4,2/3) for c in df_GALAH['bp_rp']]\n",
    "\n",
    "df_GALAH['R_sun']=np.around(np.sqrt(df_GALAH['L_sun'])/(df_GALAH['T_K']/5800)**2, decimals=2) # T_☉ = 5800\n",
    "\n",
    "print(\"\\nDone!\")"
   ]
  },
  {
   "cell_type": "code",
   "execution_count": 8,
   "metadata": {},
   "outputs": [
    {
     "data": {
      "text/plain": [
       "588571"
      ]
     },
     "execution_count": 8,
     "metadata": {},
     "output_type": "execute_result"
    }
   ],
   "source": [
    "df_GALAH.shape[0]"
   ]
  },
  {
   "cell_type": "code",
   "execution_count": 9,
   "metadata": {},
   "outputs": [
    {
     "data": {
      "text/plain": [
       "427984"
      ]
     },
     "execution_count": 9,
     "metadata": {},
     "output_type": "execute_result"
    }
   ],
   "source": [
    "df_GALAH = df_GALAH[(df_GALAH.flag_sp == 0) & (df_GALAH.flag_fe_h == 0)]\n",
    "                    \n",
    "df_GALAH.shape[0]"
   ]
  },
  {
   "cell_type": "code",
   "execution_count": 10,
   "metadata": {},
   "outputs": [],
   "source": [
    "conditions = [\n",
    "    (df_GALAH['logg'].astype(float) > 4.20),\n",
    "    ((df_GALAH['logg'].astype(float) <= 4.20) & (df_GALAH['logg'].astype(float) > 3.90)),\n",
    "    ((df_GALAH['logg'].astype(float) <= 3.90) & (df_GALAH['logg'].astype(float) > 3.60)),\n",
    "    ((df_GALAH['logg'].astype(float) < 2.55) & (df_GALAH['logg'].astype(float) > 2.35)),\n",
    "    (df_GALAH['logg'].astype(float) <= 3.60),\n",
    "    (df_GALAH['logg'].isna())\n",
    "]\n",
    "\n",
    "values = ['main_sequence', 'turnoff', 'subgiants', 'red_clump', 'red_giants', 'null']\n",
    "\n",
    "df_GALAH['Star_Type'] = np.select(conditions, values)"
   ]
  },
  {
   "cell_type": "code",
   "execution_count": 11,
   "metadata": {},
   "outputs": [],
   "source": [
    "#df_GALAH.columns.sort_values().tolist()"
   ]
  },
  {
   "cell_type": "code",
   "execution_count": 12,
   "metadata": {},
   "outputs": [],
   "source": [
    "#set the figure size to be wide in the horizontal direction\n",
    "#to accommodate the image cutouts alongside the spectra \n",
    "#fsize=[20,13]\n",
    "fsize=[20,8]\n",
    "#mpl.rcParams['axes.linewidth'] = 0.7\n",
    "FSIZE=18\n",
    "LWIDTH=0.5\n",
    "LABELSIZE=10"
   ]
  },
  {
   "cell_type": "code",
   "execution_count": null,
   "metadata": {},
   "outputs": [],
   "source": []
  },
  {
   "cell_type": "code",
   "execution_count": 13,
   "metadata": {},
   "outputs": [],
   "source": [
    "def Plot_Spectra(df):\n",
    "    plt.rcParams.update(Ipython_default)\n",
    "    plt.clf()\n",
    "\n",
    "    for idx in range(0, df.shape[0]):\n",
    "        target = str(df['sobject_id'].iloc[idx])\n",
    "        subclass = str(df['SpT2'].iloc[idx])\n",
    "        feh = df['fe_h'].iloc[idx]\n",
    "        logg = df['logg'].iloc[idx]\n",
    "        teff = str(df['teff'].iloc[idx])\n",
    "        ra = str(df['ra'].iloc[idx])\n",
    "        dec = str(df['dec'].iloc[idx])\n",
    "        star_type = str(df['Star_Type'].iloc[idx])\n",
    "\n",
    "        #setup the plot using gridspec\n",
    "        gs = gridspec.GridSpec\n",
    "        fig = plt.figure(figsize=fsize)\n",
    "\n",
    "        gs = gridspec.GridSpec(4,2)\n",
    "        #B\n",
    "        axB = fig.add_subplot(gs[0,1])\n",
    "        #V\n",
    "        axV = fig.add_subplot(gs[1,1])\n",
    "        #R\n",
    "        axR = fig.add_subplot(gs[2,1])\n",
    "        #I\n",
    "        axI = fig.add_subplot(gs[3,1])\n",
    "\n",
    "        show_spectrum(target,[axB,axV,axR,axI],\"GALAH DR3 Target: [\" + str(int(target)) + \"]\" + \n",
    "            \"\\nStar_Type: [\" + str(star_type) + \"]    Subclass: [\" + str(subclass[:-1]) + \"]\" + \n",
    "            \"    Fe/H: [\" + str(round(feh,2))   + \"]\" +\n",
    "            \"    LogG: [\" + str(round(logg,2))  + \"]\" +\n",
    "            \"    Teff: [\" + str(teff[:-4])      + \"]\" +\n",
    "            \"\\nRa: \" + str(ra) + \n",
    "            \"    Dec: \" + str(dec))\n",
    "\n",
    "        #plt.savefig(\"./Images/\" + str(subclass[:-1]) + \"_\" + str(star_type) + \"_LogG[\" + str(round(logg,2))  + \"]\" + \"_FeH[\" + str(round(feh,2)) + \"]\" + \"_Ra[\" + str(ra) + \"]\" + \"_Dec[\" + str(dec) + \"]\" + \".png\")\n",
    "        plt.show()\n",
    "\n",
    "    print(\"Done!\")\n",
    "    plt.style.use('dark_background');"
   ]
  },
  {
   "cell_type": "code",
   "execution_count": 14,
   "metadata": {},
   "outputs": [],
   "source": [
    "def Save_Spectra(df):\n",
    "    plt.rcParams.update(Ipython_default)\n",
    "    plt.clf()\n",
    "\n",
    "    for idx in range(0, df.shape[0]):\n",
    "        target = str(df['sobject_id'].iloc[idx])\n",
    "        subclass = str(df['SpT2'].iloc[idx])\n",
    "        feh = df['fe_h'].iloc[idx]\n",
    "        logg = df['logg'].iloc[idx]\n",
    "        teff = str(df['teff'].iloc[idx])\n",
    "        ra = str(df['ra'].iloc[idx])\n",
    "        dec = str(df['dec'].iloc[idx])\n",
    "        star_type = str(df['Star_Type'].iloc[idx])\n",
    "\n",
    "        #setup the plot using gridspec\n",
    "        gs = gridspec.GridSpec\n",
    "        fig = plt.figure(figsize=fsize)\n",
    "\n",
    "        gs = gridspec.GridSpec(4,2)\n",
    "        #B\n",
    "        axB = fig.add_subplot(gs[0,1])\n",
    "        #V\n",
    "        axV = fig.add_subplot(gs[1,1])\n",
    "        #R\n",
    "        axR = fig.add_subplot(gs[2,1])\n",
    "        #I\n",
    "        axI = fig.add_subplot(gs[3,1])\n",
    "\n",
    "        show_spectrum(target,[axB,axV,axR,axI],\"GALAH DR3 Target: [\" + str(int(target)) + \"]\" + \n",
    "            \"\\nStar_Type: [\" + str(star_type) + \"]    Subclass: [\" + str(subclass[:-1]) + \"]\" + \n",
    "            \"    Fe/H: [\" + str(round(feh,2))   + \"]\" +\n",
    "            \"    LogG: [\" + str(round(logg,2))  + \"]\" +\n",
    "            \"    Teff: [\" + str(teff[:-4])      + \"]\" +\n",
    "            \"\\nRa: \" + str(ra) + \n",
    "            \"    Dec: \" + str(dec))\n",
    "\n",
    "        plt.savefig(\"./Images/\" + str(subclass[:-1]) + \"_\" + str(star_type) + \"_FeH[\" + str(round(feh,2)) + \"]\" + \"_LogG[\" + str(round(logg,2)) + \"]\" + \"_Ra[\" + str(ra) + \"]\" + \"_Dec[\" + str(dec) + \"]\" + \".png\", dpi=600)\n",
    "        plt.close()\n",
    "\n",
    "    print(\"Done!\")\n",
    "    plt.style.use('dark_background');"
   ]
  },
  {
   "cell_type": "code",
   "execution_count": null,
   "metadata": {},
   "outputs": [],
   "source": []
  },
  {
   "cell_type": "code",
   "execution_count": 15,
   "metadata": {},
   "outputs": [
    {
     "name": "stdout",
     "output_type": "stream",
     "text": [
      "\n",
      "Stars: 427984\n",
      "main_sequence: 131327\n",
      "turnoff: 109116\n",
      "subgiants: 40818\n",
      "red_clump: 41837\n",
      "red_giants: 104886\n",
      "\n",
      "Class O: 472\n",
      "Class B: 33\n",
      "Class A: 1631\n",
      "Class F: 78068\n",
      "Class G: 134962\n",
      "Class K: 190926\n",
      "Class M: 3482\n"
     ]
    }
   ],
   "source": [
    "f1 = df_GALAH\n",
    "\n",
    "main_sequence = f1[f1['logg'].astype(float) > 4.20]\n",
    "turnoff       = f1[(f1['logg'].astype(float) < 4.20) & (f1['logg'].astype(float) > 3.90)]\n",
    "subgiants     = f1[(f1['logg'].astype(float) < 3.90) & (f1['logg'].astype(float) > 3.60)]\n",
    "red_clump     = f1[(f1['logg'].astype(float) < 2.55) & (f1['logg'].astype(float) > 2.35)]\n",
    "red_clump_id  = red_clump.star_id.astype(str)\n",
    "reds          = f1[f1['logg'].astype(float) < 3.60]\n",
    "red_giants    = reds[~reds['star_id'].isin(red_clump_id)]\n",
    "\n",
    "print(\"\\nStars: \" + str(f1.shape[0]))\n",
    "print(\"main_sequence: \" + str(main_sequence.shape[0]))\n",
    "print(\"turnoff: \" + str(turnoff.shape[0]))\n",
    "print(\"subgiants: \" + str(subgiants.shape[0]))\n",
    "print(\"red_clump: \" + str(red_clump.shape[0]))\n",
    "print(\"red_giants: \" + str(red_giants.shape[0]))\n",
    "\n",
    "df_class_O = f1[(f1['SpT2'] >= \"O0V\") & (f1['SpT2'] <= \"O9V\")]\n",
    "df_class_B = f1[(f1['SpT2'] >= \"B0V\") & (f1['SpT2'] <= \"B9V\")]\n",
    "df_class_A = f1[(f1['SpT2'] >= \"A0V\") & (f1['SpT2'] <= \"A9V\")]\n",
    "df_class_F = f1[(f1['SpT2'] >= \"F0V\") & (f1['SpT2'] <= \"F9V\")]\n",
    "df_class_G = f1[(f1['SpT2'] >= \"G0V\") & (f1['SpT2'] <= \"G9V\")]\n",
    "df_class_K = f1[(f1['SpT2'] >= \"K0V\") & (f1['SpT2'] <= \"K9V\")]\n",
    "df_class_M = f1[(f1['SpT2'] >= \"M0V\") & (f1['SpT2'] <= \"M9V\")]\n",
    "\n",
    "print(\"\\nClass O: \" + str(df_class_O.shape[0]))\n",
    "print(\"Class B: \" + str(df_class_B.shape[0]))\n",
    "print(\"Class A: \" + str(df_class_A.shape[0]))\n",
    "print(\"Class F: \" + str(df_class_F.shape[0]))\n",
    "print(\"Class G: \" + str(df_class_G.shape[0]))\n",
    "print(\"Class K: \" + str(df_class_K.shape[0]))\n",
    "print(\"Class M: \" + str(df_class_M.shape[0]))"
   ]
  },
  {
   "cell_type": "code",
   "execution_count": 16,
   "metadata": {},
   "outputs": [],
   "source": [
    "from astroquery.vizier import Vizier\n",
    "from astropy.table import Table\n",
    "\n",
    "Vizier.ROW_LIMIT = -1"
   ]
  },
  {
   "cell_type": "code",
   "execution_count": 17,
   "metadata": {},
   "outputs": [],
   "source": [
    "from astroquery.vizier import Vizier\n",
    "\n",
    "# GALAH survey, chemodynamical analyse with TGAS (Buder+, 2019)\n",
    "result = Vizier.query_constraints(catalog='J/A+A/624/A19')"
   ]
  },
  {
   "cell_type": "code",
   "execution_count": null,
   "metadata": {},
   "outputs": [],
   "source": [
    "print(result)"
   ]
  },
  {
   "cell_type": "code",
   "execution_count": null,
   "metadata": {},
   "outputs": [],
   "source": [
    "result[0].columns"
   ]
  },
  {
   "cell_type": "code",
   "execution_count": 25,
   "metadata": {},
   "outputs": [],
   "source": [
    "list_columns = ['SourceId','_2MASS','GALAH','RAICRS','DEICRS','plx','pmRA','pmDE','Teff','logg','__Fe_H_','vmic','vsini','RV','__alpha_Fe_','LiAbund','CAbund','OAbund','NaAbund','MgAbund','AlAbund','SiAbund','KAbund','CaAbund','ScAbund','TiAbund','VAbund','CrAbund','MnAbund','FeAbund','CoAbund','NiAbund','CuAbund','ZnAbund','RbAbund','SrAbund','YAbund','ZrAbund','MoAbund','RuAbund','BaAbund','LaAbund','CeAbund','NdAbund','SmAbund','EuAbund','Agemean','Massmean']\n"
   ]
  },
  {
   "cell_type": "code",
   "execution_count": 26,
   "metadata": {},
   "outputs": [],
   "source": [
    "import pandas as pd\n",
    "\n",
    "list = []\n",
    "\n",
    "list = result[result.keys()[0]]\n",
    "\n",
    "df = pd.DataFrame.from_records(list, columns=list_columns)"
   ]
  },
  {
   "cell_type": "code",
   "execution_count": 29,
   "metadata": {},
   "outputs": [
    {
     "data": {
      "text/plain": [
       "5429"
      ]
     },
     "execution_count": 29,
     "metadata": {},
     "output_type": "execute_result"
    }
   ],
   "source": [
    "df_vizier_table = df_GALAH[df_GALAH['sobject_id'].isin(df['GALAH'])]\n",
    "len(df_vizier_table)"
   ]
  },
  {
   "cell_type": "code",
   "execution_count": null,
   "metadata": {},
   "outputs": [],
   "source": []
  },
  {
   "cell_type": "code",
   "execution_count": 31,
   "metadata": {},
   "outputs": [],
   "source": [
    "idx_start = 0\n",
    "idx_end = 25"
   ]
  },
  {
   "cell_type": "code",
   "execution_count": 32,
   "metadata": {},
   "outputs": [
    {
     "name": "stdout",
     "output_type": "stream",
     "text": [
      "             sobject_id      Star_Type   SpT2      logg      fe_h  field_id\n",
      "60722   140809003701167  main_sequence    F7V  4.401020 -2.062589       139\n",
      "2877    131216003201003        turnoff    O3V  4.124098 -2.047103        -1\n",
      "96940   150206003601197        turnoff    G3V  3.922461 -1.972308      3446\n",
      "248556  160426003501078      subgiants  F9.5V  3.847551 -1.913672      3548\n",
      "78943   141104004301029  main_sequence    G0V  4.299097 -1.905546      1012\n",
      "270715  160524006601089  main_sequence    F9V  4.353731 -1.500562      2922\n",
      "57999   140808003201002        turnoff    F8V  4.039115 -1.329680        14\n",
      "118225  150411003601047      subgiants    G7V  3.687579 -1.284641      6635\n",
      "157059  150827004001280        turnoff    F9V  4.059362 -1.251299        64\n",
      "105399  150211002201314  main_sequence    F8V  4.278882 -1.243416      2547\n",
      "74751   141101003001335  main_sequence    F8V  4.360895 -1.239847       211\n",
      "171658  151009001601086        turnoff    G5V  3.900675 -1.167198      6661\n",
      "194318  160110002101185  main_sequence    G3V  4.466813 -1.135699      6597\n",
      "71547   140814005401212        turnoff    F7V  4.191976 -1.134869        86\n",
      "240893  160422002001265        turnoff    F3V  4.038594 -1.054268      4185\n",
      "163175  150830004001063        turnoff  F9.5V  4.103561 -0.921824       167\n",
      "190860  160107003101377        turnoff    F9V  3.992250 -0.916445        -1\n",
      "209076  160326002101007  main_sequence    G7V  4.296809 -0.915257      1677\n",
      "52486   140805004801339  main_sequence  F9.5V  4.232716 -0.893083       190\n",
      "159492  150828005201046        turnoff    G1V  4.073572 -0.874974       458\n",
      "281626  160602001601121        turnoff    F5V  4.099133 -0.856208      6654\n",
      "243438  160423002201123  main_sequence  F9.5V  4.288026 -0.848997      4477\n",
      "245921  160424004201195  main_sequence    G1V  4.393004 -0.846414      5838\n",
      "115227  150409002601397  main_sequence  F9.5V  4.300233 -0.828308      6624\n",
      "176870  151111002601030  main_sequence    G8V  4.441384 -0.813250      6602\n",
      "Done!\n"
     ]
    },
    {
     "data": {
      "text/plain": [
       "<Figure size 640x480 with 0 Axes>"
      ]
     },
     "metadata": {},
     "output_type": "display_data"
    }
   ],
   "source": [
    "#f0 = main_sequence\n",
    "#f0 = turnoff\n",
    "#f0 = subgiants\n",
    "#f0 = red_clump\n",
    "#f0 = red_giants\n",
    "#f0 = df_class_O\n",
    "#f0 = df_class_B\n",
    "#f0 = df_class_A\n",
    "#f0 = df_class_F\n",
    "#f0 = df_class_G\n",
    "#f0 = df_class_K\n",
    "#f0 = df_class_M \n",
    "#f0 = df_GALAH\n",
    "f0 = df_vizier_table\n",
    "\n",
    "f1_sorted = f0.sort_values(by =['fe_h'], ascending=True)\n",
    "\n",
    "df = f1_sorted[idx_start:idx_end]\n",
    "\n",
    "print(df[['sobject_id', 'Star_Type', 'SpT2', 'logg', 'fe_h', 'field_id']])\n",
    "\n",
    "#Plot_Spectra(df)\n",
    "Save_Spectra(df)"
   ]
  },
  {
   "cell_type": "code",
   "execution_count": null,
   "metadata": {},
   "outputs": [],
   "source": []
  }
 ],
 "metadata": {
  "kernelspec": {
   "display_name": "Python 3.10.6 ('envGalah')",
   "language": "python",
   "name": "python3"
  },
  "language_info": {
   "codemirror_mode": {
    "name": "ipython",
    "version": 3
   },
   "file_extension": ".py",
   "mimetype": "text/x-python",
   "name": "python",
   "nbconvert_exporter": "python",
   "pygments_lexer": "ipython3",
   "version": "3.10.6"
  },
  "vscode": {
   "interpreter": {
    "hash": "d26d6b0031161662bb3642187a5b731098c73d72036fdfb9cccf4ef055b572f4"
   }
  }
 },
 "nbformat": 4,
 "nbformat_minor": 2
}
